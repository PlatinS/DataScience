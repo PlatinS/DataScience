{
  "nbformat": 4,
  "nbformat_minor": 0,
  "metadata": {
    "colab": {
      "name": "SentTwitt.ipynb",
      "provenance": [],
      "collapsed_sections": []
    },
    "kernelspec": {
      "name": "python3",
      "display_name": "Python 3"
    },
    "accelerator": "GPU"
  },
  "cells": [
    {
      "cell_type": "markdown",
      "metadata": {
        "id": "Ruq26LmjqA9E",
        "colab_type": "text"
      },
      "source": [
        "### Нейронная сеть для настройки тонового классификатора сообщений Twitter"
      ]
    },
    {
      "cell_type": "markdown",
      "metadata": {
        "id": "o6CVa2INqOak",
        "colab_type": "text"
      },
      "source": [
        "Twitter – это социальная сеть и сервис микроблогинга, который позволяет пользователям писать сообщения в реальном времени. Зачастую сообщение пишется с мобильного устройства прямо с места событий, что добавляет сообщению эмоциональности. Из-за ограничения платформы длина твиттер-сообщения не превышает 140 символов. В связи с этой особенностью сервиса (короткие сообщения публикуются в реальном времени) люди используют аббревиатуры, сокращают слова, используют смайлики, пишут с орфографическими ошибками. Так как twitter имеет особенности социальной сети, его пользователи могут активно выражать свое мнение относительно разнообразных тем: от качества мультиварок до экономических и политических событий в мире."
      ]
    },
    {
      "cell_type": "markdown",
      "metadata": {
        "id": "uX0cC9PeqZey",
        "colab_type": "text"
      },
      "source": [
        "Важно определить окраску (положительная или отрицательная) отдельно взятого предложения, а не абзацев или целых документов. В длинном документе мнение автора об объекте может меняться с положительного на отрицательное и наоборот; автор может отрицательно высказываться о мелких недочетах, но в целом оставаться положительно настроенным по отношению к объекту. Другими словами, не всегда длинный документ или отзыв однозначно можно классифицировать как положительно или отрицательно окрашенный."
      ]
    },
    {
      "cell_type": "markdown",
      "metadata": {
        "id": "VSZgVQvEqqsR",
        "colab_type": "text"
      },
      "source": [
        "Классификация на уровне коротких сообщений Twitter использует размеченный корпус Ю. В. Рубцовой (Институт систем информатики им. А.П. Ершова СО РАН)   \n",
        "http://www.swsys.ru/index.php?page=article&id=3962&lang="
      ]
    },
    {
      "cell_type": "code",
      "metadata": {
        "id": "LRbTaP_LxDne",
        "colab_type": "code",
        "colab": {
          "base_uri": "https://localhost:8080/",
          "height": 357
        },
        "outputId": "9b2fa46f-dd26-4ec4-d276-b22ea99ec741"
      },
      "source": [
        "!nvidia-smi"
      ],
      "execution_count": 1,
      "outputs": [
        {
          "output_type": "stream",
          "text": [
            "Sun Sep 13 08:54:04 2020       \n",
            "+-----------------------------------------------------------------------------+\n",
            "| NVIDIA-SMI 450.66       Driver Version: 418.67       CUDA Version: 10.1     |\n",
            "|-------------------------------+----------------------+----------------------+\n",
            "| GPU  Name        Persistence-M| Bus-Id        Disp.A | Volatile Uncorr. ECC |\n",
            "| Fan  Temp  Perf  Pwr:Usage/Cap|         Memory-Usage | GPU-Util  Compute M. |\n",
            "|                               |                      |               MIG M. |\n",
            "|===============================+======================+======================|\n",
            "|   0  Tesla T4            Off  | 00000000:00:04.0 Off |                    0 |\n",
            "| N/A   62C    P8    10W /  70W |      0MiB / 15079MiB |      0%      Default |\n",
            "|                               |                      |                 ERR! |\n",
            "+-------------------------------+----------------------+----------------------+\n",
            "                                                                               \n",
            "+-----------------------------------------------------------------------------+\n",
            "| Processes:                                                                  |\n",
            "|  GPU   GI   CI        PID   Type   Process name                  GPU Memory |\n",
            "|        ID   ID                                                   Usage      |\n",
            "|=============================================================================|\n",
            "|  No running processes found                                                 |\n",
            "+-----------------------------------------------------------------------------+\n"
          ],
          "name": "stdout"
        }
      ]
    },
    {
      "cell_type": "code",
      "metadata": {
        "id": "cs50btFwZ0o7",
        "colab_type": "code",
        "colab": {}
      },
      "source": [
        "import pandas as pd\n",
        "import numpy as np\n",
        "import datetime\n",
        "import time\n",
        "import re\n",
        "import random\n",
        "from tqdm import tqdm\n",
        "from sklearn.model_selection import train_test_split"
      ],
      "execution_count": 2,
      "outputs": []
    },
    {
      "cell_type": "code",
      "metadata": {
        "id": "uUgNBUbgZ9ov",
        "colab_type": "code",
        "colab": {}
      },
      "source": [
        "import dill as pickle\n",
        "import os"
      ],
      "execution_count": 3,
      "outputs": []
    },
    {
      "cell_type": "code",
      "metadata": {
        "id": "GmD02vu9a4Wo",
        "colab_type": "code",
        "colab": {
          "base_uri": "https://localhost:8080/",
          "height": 34
        },
        "outputId": "6a76d74d-d10a-44ca-ac0c-c35e7572f491"
      },
      "source": [
        "from google.colab import drive\n",
        "drive.mount('/content/drive/')"
      ],
      "execution_count": 4,
      "outputs": [
        {
          "output_type": "stream",
          "text": [
            "Mounted at /content/drive/\n"
          ],
          "name": "stdout"
        }
      ]
    },
    {
      "cell_type": "code",
      "metadata": {
        "id": "7ynXu9eulLuk",
        "colab_type": "code",
        "colab": {
          "base_uri": "https://localhost:8080/",
          "height": 51
        },
        "outputId": "b8faacbf-d624-45a5-b859-477b2e192719"
      },
      "source": [
        "!ls 'drive/My Drive/Colab Notebooks/data'"
      ],
      "execution_count": 5,
      "outputs": [
        {
          "output_type": "stream",
          "text": [
            "all_twitts.csv\tmodel.h5    twitts.pkl\tx_train.pkl\n",
            "cycle_gan\tmodel.json  x_test.pkl\n"
          ],
          "name": "stdout"
        }
      ]
    },
    {
      "cell_type": "code",
      "metadata": {
        "id": "ZBTFXLWeaM9V",
        "colab_type": "code",
        "colab": {}
      },
      "source": [
        "df = pd.read_csv('drive/My Drive/Colab Notebooks/data/all_twitts.csv', sep = ';', encoding='utf-8')"
      ],
      "execution_count": 6,
      "outputs": []
    },
    {
      "cell_type": "code",
      "metadata": {
        "id": "biEeyVwgl5Nj",
        "colab_type": "code",
        "colab": {
          "base_uri": "https://localhost:8080/",
          "height": 204
        },
        "outputId": "196b90ac-aa69-4a42-9044-a1f3608b9450"
      },
      "source": [
        "df.head()"
      ],
      "execution_count": 7,
      "outputs": [
        {
          "output_type": "execute_result",
          "data": {
            "text/html": [
              "<div>\n",
              "<style scoped>\n",
              "    .dataframe tbody tr th:only-of-type {\n",
              "        vertical-align: middle;\n",
              "    }\n",
              "\n",
              "    .dataframe tbody tr th {\n",
              "        vertical-align: top;\n",
              "    }\n",
              "\n",
              "    .dataframe thead th {\n",
              "        text-align: right;\n",
              "    }\n",
              "</style>\n",
              "<table border=\"1\" class=\"dataframe\">\n",
              "  <thead>\n",
              "    <tr style=\"text-align: right;\">\n",
              "      <th></th>\n",
              "      <th>index</th>\n",
              "      <th>tdate</th>\n",
              "      <th>tmane</th>\n",
              "      <th>ttext</th>\n",
              "      <th>ttype</th>\n",
              "      <th>tstcount</th>\n",
              "      <th>tfol</th>\n",
              "      <th>tfrien</th>\n",
              "    </tr>\n",
              "  </thead>\n",
              "  <tbody>\n",
              "    <tr>\n",
              "      <th>0</th>\n",
              "      <td>0</td>\n",
              "      <td>2013-12-06 13:32:24</td>\n",
              "      <td>dugarchikbellko</td>\n",
              "      <td>на работе был полный пиддес :| и так каждое за...</td>\n",
              "      <td>-1</td>\n",
              "      <td>0</td>\n",
              "      <td>8064</td>\n",
              "      <td>111</td>\n",
              "    </tr>\n",
              "    <tr>\n",
              "      <th>1</th>\n",
              "      <td>1</td>\n",
              "      <td>2013-12-06 13:32:37</td>\n",
              "      <td>nugemycejela</td>\n",
              "      <td>Коллеги сидят рубятся в Urban terror, а я из-з...</td>\n",
              "      <td>-1</td>\n",
              "      <td>0</td>\n",
              "      <td>26</td>\n",
              "      <td>42</td>\n",
              "    </tr>\n",
              "    <tr>\n",
              "      <th>2</th>\n",
              "      <td>2</td>\n",
              "      <td>2013-12-06 13:32:46</td>\n",
              "      <td>4post21</td>\n",
              "      <td>@elina_4post как говорят обещаного три года жд...</td>\n",
              "      <td>-1</td>\n",
              "      <td>0</td>\n",
              "      <td>718</td>\n",
              "      <td>49</td>\n",
              "    </tr>\n",
              "    <tr>\n",
              "      <th>3</th>\n",
              "      <td>3</td>\n",
              "      <td>2013-12-06 13:33:00</td>\n",
              "      <td>Poliwake</td>\n",
              "      <td>Желаю хорошего полёта и удачной посадки,я буду...</td>\n",
              "      <td>-1</td>\n",
              "      <td>0</td>\n",
              "      <td>10628</td>\n",
              "      <td>207</td>\n",
              "    </tr>\n",
              "    <tr>\n",
              "      <th>4</th>\n",
              "      <td>4</td>\n",
              "      <td>2013-12-06 13:33:00</td>\n",
              "      <td>capyvixowe</td>\n",
              "      <td>Обновил за каким-то лешим surf, теперь не рабо...</td>\n",
              "      <td>-1</td>\n",
              "      <td>0</td>\n",
              "      <td>35</td>\n",
              "      <td>17</td>\n",
              "    </tr>\n",
              "  </tbody>\n",
              "</table>\n",
              "</div>"
            ],
            "text/plain": [
              "   index                tdate            tmane  ... tstcount   tfol  tfrien\n",
              "0      0  2013-12-06 13:32:24  dugarchikbellko  ...        0   8064     111\n",
              "1      1  2013-12-06 13:32:37     nugemycejela  ...        0     26      42\n",
              "2      2  2013-12-06 13:32:46          4post21  ...        0    718      49\n",
              "3      3  2013-12-06 13:33:00         Poliwake  ...        0  10628     207\n",
              "4      4  2013-12-06 13:33:00       capyvixowe  ...        0     35      17\n",
              "\n",
              "[5 rows x 8 columns]"
            ]
          },
          "metadata": {
            "tags": []
          },
          "execution_count": 7
        }
      ]
    },
    {
      "cell_type": "code",
      "metadata": {
        "id": "hnJRpvYzwvDn",
        "colab_type": "code",
        "colab": {}
      },
      "source": [
        "# Функция предобработки текста для удаления всех нерелевантных символов\n",
        "def preprocessText(text):\n",
        "    text = text.lower().replace(\"ё\", \"е\")\n",
        "    text = re.sub('((www\\.[^\\s]+)|(https?://[^\\s]+))', ' ', text)\n",
        "    text = re.sub('@[^\\s]+', ' ', text)\n",
        "    text = re.sub('[^a-zA-Zа-яА-Я1-9]+', ' ', text)\n",
        "    text = re.sub(' +', ' ', text)\n",
        "    return text.strip()"
      ],
      "execution_count": 8,
      "outputs": []
    },
    {
      "cell_type": "code",
      "metadata": {
        "id": "PA6qMr85wxYN",
        "colab_type": "code",
        "colab": {}
      },
      "source": [
        "df.ttext = df.ttext.apply(preprocessText)"
      ],
      "execution_count": 9,
      "outputs": []
    },
    {
      "cell_type": "code",
      "metadata": {
        "id": "lLNsZXAmw41U",
        "colab_type": "code",
        "colab": {
          "base_uri": "https://localhost:8080/",
          "height": 204
        },
        "outputId": "09c5121e-bf13-466c-970f-37b4141cd4d8"
      },
      "source": [
        "df.head()"
      ],
      "execution_count": 10,
      "outputs": [
        {
          "output_type": "execute_result",
          "data": {
            "text/html": [
              "<div>\n",
              "<style scoped>\n",
              "    .dataframe tbody tr th:only-of-type {\n",
              "        vertical-align: middle;\n",
              "    }\n",
              "\n",
              "    .dataframe tbody tr th {\n",
              "        vertical-align: top;\n",
              "    }\n",
              "\n",
              "    .dataframe thead th {\n",
              "        text-align: right;\n",
              "    }\n",
              "</style>\n",
              "<table border=\"1\" class=\"dataframe\">\n",
              "  <thead>\n",
              "    <tr style=\"text-align: right;\">\n",
              "      <th></th>\n",
              "      <th>index</th>\n",
              "      <th>tdate</th>\n",
              "      <th>tmane</th>\n",
              "      <th>ttext</th>\n",
              "      <th>ttype</th>\n",
              "      <th>tstcount</th>\n",
              "      <th>tfol</th>\n",
              "      <th>tfrien</th>\n",
              "    </tr>\n",
              "  </thead>\n",
              "  <tbody>\n",
              "    <tr>\n",
              "      <th>0</th>\n",
              "      <td>0</td>\n",
              "      <td>2013-12-06 13:32:24</td>\n",
              "      <td>dugarchikbellko</td>\n",
              "      <td>на работе был полный пиддес и так каждое закры...</td>\n",
              "      <td>-1</td>\n",
              "      <td>0</td>\n",
              "      <td>8064</td>\n",
              "      <td>111</td>\n",
              "    </tr>\n",
              "    <tr>\n",
              "      <th>1</th>\n",
              "      <td>1</td>\n",
              "      <td>2013-12-06 13:32:37</td>\n",
              "      <td>nugemycejela</td>\n",
              "      <td>коллеги сидят рубятся в urban terror а я из за...</td>\n",
              "      <td>-1</td>\n",
              "      <td>0</td>\n",
              "      <td>26</td>\n",
              "      <td>42</td>\n",
              "    </tr>\n",
              "    <tr>\n",
              "      <th>2</th>\n",
              "      <td>2</td>\n",
              "      <td>2013-12-06 13:32:46</td>\n",
              "      <td>4post21</td>\n",
              "      <td>как говорят обещаного три года ждут</td>\n",
              "      <td>-1</td>\n",
              "      <td>0</td>\n",
              "      <td>718</td>\n",
              "      <td>49</td>\n",
              "    </tr>\n",
              "    <tr>\n",
              "      <th>3</th>\n",
              "      <td>3</td>\n",
              "      <td>2013-12-06 13:33:00</td>\n",
              "      <td>Poliwake</td>\n",
              "      <td>желаю хорошего полета и удачной посадки я буду...</td>\n",
              "      <td>-1</td>\n",
              "      <td>0</td>\n",
              "      <td>10628</td>\n",
              "      <td>207</td>\n",
              "    </tr>\n",
              "    <tr>\n",
              "      <th>4</th>\n",
              "      <td>4</td>\n",
              "      <td>2013-12-06 13:33:00</td>\n",
              "      <td>capyvixowe</td>\n",
              "      <td>обновил за каким то лешим surf теперь не работ...</td>\n",
              "      <td>-1</td>\n",
              "      <td>0</td>\n",
              "      <td>35</td>\n",
              "      <td>17</td>\n",
              "    </tr>\n",
              "  </tbody>\n",
              "</table>\n",
              "</div>"
            ],
            "text/plain": [
              "   index                tdate            tmane  ... tstcount   tfol  tfrien\n",
              "0      0  2013-12-06 13:32:24  dugarchikbellko  ...        0   8064     111\n",
              "1      1  2013-12-06 13:32:37     nugemycejela  ...        0     26      42\n",
              "2      2  2013-12-06 13:32:46          4post21  ...        0    718      49\n",
              "3      3  2013-12-06 13:33:00         Poliwake  ...        0  10628     207\n",
              "4      4  2013-12-06 13:33:00       capyvixowe  ...        0     35      17\n",
              "\n",
              "[5 rows x 8 columns]"
            ]
          },
          "metadata": {
            "tags": []
          },
          "execution_count": 10
        }
      ]
    },
    {
      "cell_type": "code",
      "metadata": {
        "id": "uxdpkOrqqwsk",
        "colab_type": "code",
        "colab": {
          "base_uri": "https://localhost:8080/",
          "height": 751
        },
        "outputId": "327014c7-6f25-41ae-bc85-c7f74b272bb9"
      },
      "source": [
        "!pip install tensorflow_text"
      ],
      "execution_count": 11,
      "outputs": [
        {
          "output_type": "stream",
          "text": [
            "Collecting tensorflow_text\n",
            "\u001b[?25l  Downloading https://files.pythonhosted.org/packages/28/b2/2dbd90b93913afd07e6101b8b84327c401c394e60141c1e98590038060b3/tensorflow_text-2.3.0-cp36-cp36m-manylinux1_x86_64.whl (2.6MB)\n",
            "\u001b[K     |████████████████████████████████| 2.6MB 5.4MB/s \n",
            "\u001b[?25hRequirement already satisfied: tensorflow<2.4,>=2.3.0 in /usr/local/lib/python3.6/dist-packages (from tensorflow_text) (2.3.0)\n",
            "Requirement already satisfied: wrapt>=1.11.1 in /usr/local/lib/python3.6/dist-packages (from tensorflow<2.4,>=2.3.0->tensorflow_text) (1.12.1)\n",
            "Requirement already satisfied: tensorboard<3,>=2.3.0 in /usr/local/lib/python3.6/dist-packages (from tensorflow<2.4,>=2.3.0->tensorflow_text) (2.3.0)\n",
            "Requirement already satisfied: scipy==1.4.1 in /usr/local/lib/python3.6/dist-packages (from tensorflow<2.4,>=2.3.0->tensorflow_text) (1.4.1)\n",
            "Requirement already satisfied: h5py<2.11.0,>=2.10.0 in /usr/local/lib/python3.6/dist-packages (from tensorflow<2.4,>=2.3.0->tensorflow_text) (2.10.0)\n",
            "Requirement already satisfied: opt-einsum>=2.3.2 in /usr/local/lib/python3.6/dist-packages (from tensorflow<2.4,>=2.3.0->tensorflow_text) (3.3.0)\n",
            "Requirement already satisfied: protobuf>=3.9.2 in /usr/local/lib/python3.6/dist-packages (from tensorflow<2.4,>=2.3.0->tensorflow_text) (3.12.4)\n",
            "Requirement already satisfied: numpy<1.19.0,>=1.16.0 in /usr/local/lib/python3.6/dist-packages (from tensorflow<2.4,>=2.3.0->tensorflow_text) (1.18.5)\n",
            "Requirement already satisfied: grpcio>=1.8.6 in /usr/local/lib/python3.6/dist-packages (from tensorflow<2.4,>=2.3.0->tensorflow_text) (1.31.0)\n",
            "Requirement already satisfied: termcolor>=1.1.0 in /usr/local/lib/python3.6/dist-packages (from tensorflow<2.4,>=2.3.0->tensorflow_text) (1.1.0)\n",
            "Requirement already satisfied: keras-preprocessing<1.2,>=1.1.1 in /usr/local/lib/python3.6/dist-packages (from tensorflow<2.4,>=2.3.0->tensorflow_text) (1.1.2)\n",
            "Requirement already satisfied: astunparse==1.6.3 in /usr/local/lib/python3.6/dist-packages (from tensorflow<2.4,>=2.3.0->tensorflow_text) (1.6.3)\n",
            "Requirement already satisfied: wheel>=0.26 in /usr/local/lib/python3.6/dist-packages (from tensorflow<2.4,>=2.3.0->tensorflow_text) (0.35.1)\n",
            "Requirement already satisfied: six>=1.12.0 in /usr/local/lib/python3.6/dist-packages (from tensorflow<2.4,>=2.3.0->tensorflow_text) (1.15.0)\n",
            "Requirement already satisfied: tensorflow-estimator<2.4.0,>=2.3.0 in /usr/local/lib/python3.6/dist-packages (from tensorflow<2.4,>=2.3.0->tensorflow_text) (2.3.0)\n",
            "Requirement already satisfied: google-pasta>=0.1.8 in /usr/local/lib/python3.6/dist-packages (from tensorflow<2.4,>=2.3.0->tensorflow_text) (0.2.0)\n",
            "Requirement already satisfied: gast==0.3.3 in /usr/local/lib/python3.6/dist-packages (from tensorflow<2.4,>=2.3.0->tensorflow_text) (0.3.3)\n",
            "Requirement already satisfied: absl-py>=0.7.0 in /usr/local/lib/python3.6/dist-packages (from tensorflow<2.4,>=2.3.0->tensorflow_text) (0.8.1)\n",
            "Requirement already satisfied: google-auth-oauthlib<0.5,>=0.4.1 in /usr/local/lib/python3.6/dist-packages (from tensorboard<3,>=2.3.0->tensorflow<2.4,>=2.3.0->tensorflow_text) (0.4.1)\n",
            "Requirement already satisfied: requests<3,>=2.21.0 in /usr/local/lib/python3.6/dist-packages (from tensorboard<3,>=2.3.0->tensorflow<2.4,>=2.3.0->tensorflow_text) (2.23.0)\n",
            "Requirement already satisfied: werkzeug>=0.11.15 in /usr/local/lib/python3.6/dist-packages (from tensorboard<3,>=2.3.0->tensorflow<2.4,>=2.3.0->tensorflow_text) (1.0.1)\n",
            "Requirement already satisfied: markdown>=2.6.8 in /usr/local/lib/python3.6/dist-packages (from tensorboard<3,>=2.3.0->tensorflow<2.4,>=2.3.0->tensorflow_text) (3.2.2)\n",
            "Requirement already satisfied: google-auth<2,>=1.6.3 in /usr/local/lib/python3.6/dist-packages (from tensorboard<3,>=2.3.0->tensorflow<2.4,>=2.3.0->tensorflow_text) (1.17.2)\n",
            "Requirement already satisfied: setuptools>=41.0.0 in /usr/local/lib/python3.6/dist-packages (from tensorboard<3,>=2.3.0->tensorflow<2.4,>=2.3.0->tensorflow_text) (49.6.0)\n",
            "Requirement already satisfied: tensorboard-plugin-wit>=1.6.0 in /usr/local/lib/python3.6/dist-packages (from tensorboard<3,>=2.3.0->tensorflow<2.4,>=2.3.0->tensorflow_text) (1.7.0)\n",
            "Requirement already satisfied: requests-oauthlib>=0.7.0 in /usr/local/lib/python3.6/dist-packages (from google-auth-oauthlib<0.5,>=0.4.1->tensorboard<3,>=2.3.0->tensorflow<2.4,>=2.3.0->tensorflow_text) (1.3.0)\n",
            "Requirement already satisfied: urllib3!=1.25.0,!=1.25.1,<1.26,>=1.21.1 in /usr/local/lib/python3.6/dist-packages (from requests<3,>=2.21.0->tensorboard<3,>=2.3.0->tensorflow<2.4,>=2.3.0->tensorflow_text) (1.24.3)\n",
            "Requirement already satisfied: idna<3,>=2.5 in /usr/local/lib/python3.6/dist-packages (from requests<3,>=2.21.0->tensorboard<3,>=2.3.0->tensorflow<2.4,>=2.3.0->tensorflow_text) (2.10)\n",
            "Requirement already satisfied: certifi>=2017.4.17 in /usr/local/lib/python3.6/dist-packages (from requests<3,>=2.21.0->tensorboard<3,>=2.3.0->tensorflow<2.4,>=2.3.0->tensorflow_text) (2020.6.20)\n",
            "Requirement already satisfied: chardet<4,>=3.0.2 in /usr/local/lib/python3.6/dist-packages (from requests<3,>=2.21.0->tensorboard<3,>=2.3.0->tensorflow<2.4,>=2.3.0->tensorflow_text) (3.0.4)\n",
            "Requirement already satisfied: importlib-metadata; python_version < \"3.8\" in /usr/local/lib/python3.6/dist-packages (from markdown>=2.6.8->tensorboard<3,>=2.3.0->tensorflow<2.4,>=2.3.0->tensorflow_text) (1.7.0)\n",
            "Requirement already satisfied: cachetools<5.0,>=2.0.0 in /usr/local/lib/python3.6/dist-packages (from google-auth<2,>=1.6.3->tensorboard<3,>=2.3.0->tensorflow<2.4,>=2.3.0->tensorflow_text) (4.1.1)\n",
            "Requirement already satisfied: rsa<5,>=3.1.4; python_version >= \"3\" in /usr/local/lib/python3.6/dist-packages (from google-auth<2,>=1.6.3->tensorboard<3,>=2.3.0->tensorflow<2.4,>=2.3.0->tensorflow_text) (4.6)\n",
            "Requirement already satisfied: pyasn1-modules>=0.2.1 in /usr/local/lib/python3.6/dist-packages (from google-auth<2,>=1.6.3->tensorboard<3,>=2.3.0->tensorflow<2.4,>=2.3.0->tensorflow_text) (0.2.8)\n",
            "Requirement already satisfied: oauthlib>=3.0.0 in /usr/local/lib/python3.6/dist-packages (from requests-oauthlib>=0.7.0->google-auth-oauthlib<0.5,>=0.4.1->tensorboard<3,>=2.3.0->tensorflow<2.4,>=2.3.0->tensorflow_text) (3.1.0)\n",
            "Requirement already satisfied: zipp>=0.5 in /usr/local/lib/python3.6/dist-packages (from importlib-metadata; python_version < \"3.8\"->markdown>=2.6.8->tensorboard<3,>=2.3.0->tensorflow<2.4,>=2.3.0->tensorflow_text) (3.1.0)\n",
            "Requirement already satisfied: pyasn1>=0.1.3 in /usr/local/lib/python3.6/dist-packages (from rsa<5,>=3.1.4; python_version >= \"3\"->google-auth<2,>=1.6.3->tensorboard<3,>=2.3.0->tensorflow<2.4,>=2.3.0->tensorflow_text) (0.4.8)\n",
            "Installing collected packages: tensorflow-text\n",
            "Successfully installed tensorflow-text-2.3.0\n"
          ],
          "name": "stdout"
        }
      ]
    },
    {
      "cell_type": "code",
      "metadata": {
        "id": "7JHU5y4gqHmj",
        "colab_type": "code",
        "colab": {}
      },
      "source": [
        "import tensorflow as tf\n",
        "import tensorflow_hub as hub\n",
        "import tensorflow_text"
      ],
      "execution_count": 12,
      "outputs": []
    },
    {
      "cell_type": "code",
      "metadata": {
        "id": "HoIRqaDfralC",
        "colab_type": "code",
        "colab": {}
      },
      "source": [
        "# Загрузка Text embedding\n",
        "embed = hub.load('https://tfhub.dev/google/universal-sentence-encoder-multilingual-large/3')"
      ],
      "execution_count": 13,
      "outputs": []
    },
    {
      "cell_type": "code",
      "metadata": {
        "id": "sKGICUTir2cK",
        "colab_type": "code",
        "colab": {}
      },
      "source": [
        "# Положительные сообщения\n",
        "good_reviews = df[df.ttype == 1]\n",
        "# Отрицательные сообщения\n",
        "bad_reviews = df[df.ttype == -1]"
      ],
      "execution_count": 14,
      "outputs": []
    },
    {
      "cell_type": "code",
      "metadata": {
        "id": "YEGlEBBcsbNq",
        "colab_type": "code",
        "colab": {}
      },
      "source": [
        "good_text = ' '.join(good_reviews.ttext.to_numpy().tolist())\n",
        "bad_text = ' '.join(bad_reviews.ttext.to_numpy().tolist())"
      ],
      "execution_count": 15,
      "outputs": []
    },
    {
      "cell_type": "code",
      "metadata": {
        "id": "I42La6eptKpi",
        "colab_type": "code",
        "colab": {
          "base_uri": "https://localhost:8080/",
          "height": 34
        },
        "outputId": "a8d4fe41-57f7-4710-d81f-44ca489aece0"
      },
      "source": [
        "len(good_text)"
      ],
      "execution_count": 16,
      "outputs": [
        {
          "output_type": "execute_result",
          "data": {
            "text/plain": [
              "7636822"
            ]
          },
          "metadata": {
            "tags": []
          },
          "execution_count": 16
        }
      ]
    },
    {
      "cell_type": "code",
      "metadata": {
        "id": "1u92LCGmtNvp",
        "colab_type": "code",
        "colab": {}
      },
      "source": [
        "good_df = good_reviews.sample(n=len(bad_reviews), random_state=random.seed())"
      ],
      "execution_count": 17,
      "outputs": []
    },
    {
      "cell_type": "code",
      "metadata": {
        "id": "xTctiSi0tzD_",
        "colab_type": "code",
        "colab": {}
      },
      "source": [
        "bad_df = bad_reviews"
      ],
      "execution_count": 18,
      "outputs": []
    },
    {
      "cell_type": "code",
      "metadata": {
        "id": "OGw5yXjUt4Pp",
        "colab_type": "code",
        "colab": {}
      },
      "source": [
        "rev_df = good_df.append(bad_df).reset_index(drop=True)"
      ],
      "execution_count": 19,
      "outputs": []
    },
    {
      "cell_type": "code",
      "metadata": {
        "id": "_gpi-a-TuRMx",
        "colab_type": "code",
        "colab": {
          "base_uri": "https://localhost:8080/",
          "height": 204
        },
        "outputId": "81bb5ff2-0aaf-431a-a3b5-8f5fa3347209"
      },
      "source": [
        "rev_df.head()"
      ],
      "execution_count": 20,
      "outputs": [
        {
          "output_type": "execute_result",
          "data": {
            "text/html": [
              "<div>\n",
              "<style scoped>\n",
              "    .dataframe tbody tr th:only-of-type {\n",
              "        vertical-align: middle;\n",
              "    }\n",
              "\n",
              "    .dataframe tbody tr th {\n",
              "        vertical-align: top;\n",
              "    }\n",
              "\n",
              "    .dataframe thead th {\n",
              "        text-align: right;\n",
              "    }\n",
              "</style>\n",
              "<table border=\"1\" class=\"dataframe\">\n",
              "  <thead>\n",
              "    <tr style=\"text-align: right;\">\n",
              "      <th></th>\n",
              "      <th>index</th>\n",
              "      <th>tdate</th>\n",
              "      <th>tmane</th>\n",
              "      <th>ttext</th>\n",
              "      <th>ttype</th>\n",
              "      <th>tstcount</th>\n",
              "      <th>tfol</th>\n",
              "      <th>tfrien</th>\n",
              "    </tr>\n",
              "  </thead>\n",
              "  <tbody>\n",
              "    <tr>\n",
              "      <th>0</th>\n",
              "      <td>27060</td>\n",
              "      <td>2013-12-08 10:28:33</td>\n",
              "      <td>iriskaa_iriska</td>\n",
              "      <td>элонка ты не знаешь а шапки и колу раздавали в...</td>\n",
              "      <td>1</td>\n",
              "      <td>0</td>\n",
              "      <td>779</td>\n",
              "      <td>22</td>\n",
              "    </tr>\n",
              "    <tr>\n",
              "      <th>1</th>\n",
              "      <td>80099</td>\n",
              "      <td>2013-12-11 14:57:45</td>\n",
              "      <td>ksyunich98</td>\n",
              "      <td>я раньше никого не шипперила а с 12 11 13 я оф...</td>\n",
              "      <td>1</td>\n",
              "      <td>0</td>\n",
              "      <td>20166</td>\n",
              "      <td>2203</td>\n",
              "    </tr>\n",
              "    <tr>\n",
              "      <th>2</th>\n",
              "      <td>887</td>\n",
              "      <td>2013-12-06 14:11:52</td>\n",
              "      <td>vetergy</td>\n",
              "      <td>раз дума вводить все больше запретительных зак...</td>\n",
              "      <td>1</td>\n",
              "      <td>0</td>\n",
              "      <td>2136</td>\n",
              "      <td>544</td>\n",
              "    </tr>\n",
              "    <tr>\n",
              "      <th>3</th>\n",
              "      <td>69576</td>\n",
              "      <td>2013-12-10 20:33:01</td>\n",
              "      <td>dashadaaasha</td>\n",
              "      <td>были бы там еще конфетки вкусные цены бы им не...</td>\n",
              "      <td>1</td>\n",
              "      <td>0</td>\n",
              "      <td>1373</td>\n",
              "      <td>20</td>\n",
              "    </tr>\n",
              "    <tr>\n",
              "      <th>4</th>\n",
              "      <td>25900</td>\n",
              "      <td>2013-12-08 09:23:10</td>\n",
              "      <td>hitafijahul</td>\n",
              "      <td>rt по хорошему надо ехать в универ а по факту ...</td>\n",
              "      <td>1</td>\n",
              "      <td>0</td>\n",
              "      <td>472</td>\n",
              "      <td>159</td>\n",
              "    </tr>\n",
              "  </tbody>\n",
              "</table>\n",
              "</div>"
            ],
            "text/plain": [
              "   index                tdate           tmane  ... tstcount   tfol  tfrien\n",
              "0  27060  2013-12-08 10:28:33  iriskaa_iriska  ...        0    779      22\n",
              "1  80099  2013-12-11 14:57:45      ksyunich98  ...        0  20166    2203\n",
              "2    887  2013-12-06 14:11:52         vetergy  ...        0   2136     544\n",
              "3  69576  2013-12-10 20:33:01    dashadaaasha  ...        0   1373      20\n",
              "4  25900  2013-12-08 09:23:10     hitafijahul  ...        0    472     159\n",
              "\n",
              "[5 rows x 8 columns]"
            ]
          },
          "metadata": {
            "tags": []
          },
          "execution_count": 20
        }
      ]
    },
    {
      "cell_type": "code",
      "metadata": {
        "id": "MT_8n-zjuUIJ",
        "colab_type": "code",
        "colab": {}
      },
      "source": [
        "from sklearn.preprocessing import OneHotEncoder"
      ],
      "execution_count": 21,
      "outputs": []
    },
    {
      "cell_type": "code",
      "metadata": {
        "id": "N61OJB7IuqI5",
        "colab_type": "code",
        "colab": {}
      },
      "source": [
        "type_one_hot = OneHotEncoder(sparse=False).fit_transform(rev_df.ttype.to_numpy().reshape(-1,1))"
      ],
      "execution_count": 22,
      "outputs": []
    },
    {
      "cell_type": "code",
      "metadata": {
        "id": "rp4wM1f8vIc5",
        "colab_type": "code",
        "colab": {}
      },
      "source": [
        "# Разбиение на тренировочную и тестовую выборки\n",
        "train_rev, test_rev, y_train, y_test = train_test_split(rev_df.ttext, type_one_hot, test_size = 0.1, random_state=random.seed())"
      ],
      "execution_count": 23,
      "outputs": []
    },
    {
      "cell_type": "code",
      "metadata": {
        "id": "zkQObNWsv1_n",
        "colab_type": "code",
        "colab": {
          "base_uri": "https://localhost:8080/",
          "height": 34
        },
        "outputId": "f1a45ec9-e028-4ba5-a932-923bf7e593c1"
      },
      "source": [
        "X_train = []\n",
        "for r in tqdm(train_rev):\n",
        "  emb = embed(r)\n",
        "  rev_emb = tf.reshape(emb, [-1]).numpy()\n",
        "  X_train.append(rev_emb)\n",
        "\n",
        "X_train = np.array(X_train)"
      ],
      "execution_count": 24,
      "outputs": [
        {
          "output_type": "stream",
          "text": [
            "100%|██████████| 201461/201461 [43:16<00:00, 77.58it/s]\n"
          ],
          "name": "stderr"
        }
      ]
    },
    {
      "cell_type": "code",
      "metadata": {
        "id": "xXJGXtApykLW",
        "colab_type": "code",
        "colab": {}
      },
      "source": [
        "with open('drive/My Drive/Colab Notebooks/data/x_train.pkl', 'wb') as file:\n",
        "    pickle.dump(X_train, file)"
      ],
      "execution_count": 25,
      "outputs": []
    },
    {
      "cell_type": "code",
      "metadata": {
        "id": "zUgl_wHV8Xhg",
        "colab_type": "code",
        "colab": {
          "base_uri": "https://localhost:8080/",
          "height": 34
        },
        "outputId": "f7926f57-13db-427e-e335-656bf6fe36c9"
      },
      "source": [
        "X_test = []\n",
        "for r in tqdm(test_rev):\n",
        "  emb = embed(r)\n",
        "  rev_emb = tf.reshape(emb, [-1]).numpy()\n",
        "  X_test.append(rev_emb)\n",
        "\n",
        "X_test = np.array(X_test)"
      ],
      "execution_count": 26,
      "outputs": [
        {
          "output_type": "stream",
          "text": [
            "100%|██████████| 22385/22385 [04:47<00:00, 77.78it/s]\n"
          ],
          "name": "stderr"
        }
      ]
    },
    {
      "cell_type": "code",
      "metadata": {
        "id": "aYeAl_Fy92mw",
        "colab_type": "code",
        "colab": {}
      },
      "source": [
        "with open('drive/My Drive/Colab Notebooks/data/x_test.pkl', 'wb') as file:\n",
        "    pickle.dump(X_test, file)"
      ],
      "execution_count": 27,
      "outputs": []
    },
    {
      "cell_type": "code",
      "metadata": {
        "id": "qJPbjO4_8xAl",
        "colab_type": "code",
        "colab": {}
      },
      "source": [
        "from tensorflow import keras\n",
        "from tensorflow.keras import layers\n",
        "from tensorflow.keras.models import Sequential, load_model"
      ],
      "execution_count": 28,
      "outputs": []
    },
    {
      "cell_type": "code",
      "metadata": {
        "id": "UF49AADF9-ZG",
        "colab_type": "code",
        "colab": {}
      },
      "source": [
        " # Построение модели\n",
        "model = tf.keras.Sequential()\n",
        "model.add(tf.keras.layers.Dense(units=256, input_shape=(X_train.shape[1], ), activation='relu'))\n",
        "model.add(tf.keras.layers.Dropout(rate=0.5))\n",
        "model.add(tf.keras.layers.Dense(units=128, activation='relu'))\n",
        "model.add(tf.keras.layers.Dropout(rate=0.5))\n",
        "model.add(tf.keras.layers.Dense(2, activation='softmax'))"
      ],
      "execution_count": 29,
      "outputs": []
    },
    {
      "cell_type": "code",
      "metadata": {
        "id": "j-ppuLdV-VBm",
        "colab_type": "code",
        "colab": {}
      },
      "source": [
        "# Компиляция модели\n",
        "model.compile(\n",
        "    loss='categorical_crossentropy',\n",
        "    optimizer=tf.keras.optimizers.Adam(0.001),\n",
        "    metrics=['accuracy']\n",
        ")"
      ],
      "execution_count": 30,
      "outputs": []
    },
    {
      "cell_type": "code",
      "metadata": {
        "id": "OUsb4cyp-arm",
        "colab_type": "code",
        "colab": {
          "base_uri": "https://localhost:8080/",
          "height": 697
        },
        "outputId": "03b49d44-c265-4cc7-c69f-8fa14c0b9810"
      },
      "source": [
        "# Тренировка модели\n",
        "history = model.fit(\n",
        "    X_train, y_train,\n",
        "    epochs=20,\n",
        "    batch_size=16,\n",
        "    validation_split=0.1,\n",
        "    verbose=1,\n",
        "    shuffle=True\n",
        ")"
      ],
      "execution_count": 31,
      "outputs": [
        {
          "output_type": "stream",
          "text": [
            "Epoch 1/20\n",
            "11333/11333 [==============================] - 30s 3ms/step - loss: 0.5333 - accuracy: 0.7307 - val_loss: 0.5109 - val_accuracy: 0.7444\n",
            "Epoch 2/20\n",
            "11333/11333 [==============================] - 28s 2ms/step - loss: 0.5092 - accuracy: 0.7484 - val_loss: 0.5035 - val_accuracy: 0.7500\n",
            "Epoch 3/20\n",
            "11333/11333 [==============================] - 28s 3ms/step - loss: 0.4961 - accuracy: 0.7565 - val_loss: 0.4963 - val_accuracy: 0.7540\n",
            "Epoch 4/20\n",
            "11333/11333 [==============================] - 29s 3ms/step - loss: 0.4854 - accuracy: 0.7642 - val_loss: 0.4921 - val_accuracy: 0.7553\n",
            "Epoch 5/20\n",
            "11333/11333 [==============================] - 29s 3ms/step - loss: 0.4747 - accuracy: 0.7715 - val_loss: 0.4927 - val_accuracy: 0.7575\n",
            "Epoch 6/20\n",
            "11333/11333 [==============================] - 29s 3ms/step - loss: 0.4654 - accuracy: 0.7767 - val_loss: 0.4913 - val_accuracy: 0.7591\n",
            "Epoch 7/20\n",
            "11333/11333 [==============================] - 28s 2ms/step - loss: 0.4567 - accuracy: 0.7824 - val_loss: 0.4934 - val_accuracy: 0.7583\n",
            "Epoch 8/20\n",
            "11333/11333 [==============================] - 28s 2ms/step - loss: 0.4500 - accuracy: 0.7861 - val_loss: 0.4922 - val_accuracy: 0.7598\n",
            "Epoch 9/20\n",
            "11333/11333 [==============================] - 28s 3ms/step - loss: 0.4428 - accuracy: 0.7915 - val_loss: 0.4896 - val_accuracy: 0.7615\n",
            "Epoch 10/20\n",
            "11333/11333 [==============================] - 29s 3ms/step - loss: 0.4356 - accuracy: 0.7954 - val_loss: 0.4940 - val_accuracy: 0.7606\n",
            "Epoch 11/20\n",
            "11333/11333 [==============================] - 29s 3ms/step - loss: 0.4300 - accuracy: 0.7992 - val_loss: 0.4969 - val_accuracy: 0.7600\n",
            "Epoch 12/20\n",
            "11333/11333 [==============================] - 30s 3ms/step - loss: 0.4232 - accuracy: 0.8023 - val_loss: 0.4968 - val_accuracy: 0.7610\n",
            "Epoch 13/20\n",
            "11333/11333 [==============================] - 28s 3ms/step - loss: 0.4190 - accuracy: 0.8061 - val_loss: 0.5117 - val_accuracy: 0.7624\n",
            "Epoch 14/20\n",
            "11333/11333 [==============================] - 29s 3ms/step - loss: 0.4129 - accuracy: 0.8097 - val_loss: 0.5105 - val_accuracy: 0.7580\n",
            "Epoch 15/20\n",
            "11333/11333 [==============================] - 29s 3ms/step - loss: 0.4080 - accuracy: 0.8123 - val_loss: 0.5109 - val_accuracy: 0.7606\n",
            "Epoch 16/20\n",
            "11333/11333 [==============================] - 28s 2ms/step - loss: 0.4033 - accuracy: 0.8147 - val_loss: 0.5051 - val_accuracy: 0.7592\n",
            "Epoch 17/20\n",
            "11333/11333 [==============================] - 29s 3ms/step - loss: 0.3987 - accuracy: 0.8169 - val_loss: 0.5204 - val_accuracy: 0.7579\n",
            "Epoch 18/20\n",
            "11333/11333 [==============================] - 28s 2ms/step - loss: 0.3954 - accuracy: 0.8194 - val_loss: 0.5051 - val_accuracy: 0.7564\n",
            "Epoch 19/20\n",
            "11333/11333 [==============================] - 29s 3ms/step - loss: 0.3921 - accuracy: 0.8203 - val_loss: 0.5144 - val_accuracy: 0.7588\n",
            "Epoch 20/20\n",
            "11333/11333 [==============================] - 29s 3ms/step - loss: 0.3874 - accuracy: 0.8239 - val_loss: 0.5107 - val_accuracy: 0.7588\n"
          ],
          "name": "stdout"
        }
      ]
    },
    {
      "cell_type": "code",
      "metadata": {
        "id": "tRgC6bdT-hU-",
        "colab_type": "code",
        "colab": {}
      },
      "source": [
        "import matplotlib.pyplot as plt"
      ],
      "execution_count": 32,
      "outputs": []
    },
    {
      "cell_type": "code",
      "metadata": {
        "id": "G-zrKXQ4_p14",
        "colab_type": "code",
        "colab": {
          "base_uri": "https://localhost:8080/",
          "height": 404
        },
        "outputId": "b430852c-d678-4802-de8f-79cdc7adbaee"
      },
      "source": [
        "EPOCHS = 20\n",
        "acc = history.history['accuracy']\n",
        "val_acc = history.history['val_accuracy']\n",
        "epochs = range(1,EPOCHS+1)\n",
        "plt.figure(figsize=(14, 6))\n",
        "plt.plot(epochs, acc, 'r', label='Training Acc')\n",
        "plt.plot(epochs, val_acc, 'b', label='Validation Acc')\n",
        "plt.title('Training and Validation Accuracy')\n",
        "plt.xlabel('Epoch')\n",
        "plt.ylabel('Accuracy Value')\n",
        "plt.ylim([0, 1])\n",
        "plt.legend()\n",
        "plt.grid()\n",
        "plt.show()"
      ],
      "execution_count": 33,
      "outputs": [
        {
          "output_type": "display_data",
          "data": {
            "image/png": "[encoded data removed]",
            "text/plain": [
              "<Figure size 1008x432 with 1 Axes>"
            ]
          },
          "metadata": {
            "tags": [],
            "needs_background": "light"
          }
        }
      ]
    },
    {
      "cell_type": "code",
      "metadata": {
        "id": "7PXIA7-R_yGW",
        "colab_type": "code",
        "colab": {
          "base_uri": "https://localhost:8080/",
          "height": 51
        },
        "outputId": "119b9cef-24e1-45d8-dc9e-ec0df88765a4"
      },
      "source": [
        "# Оценка модели\n",
        "model.evaluate(X_test, y_test)"
      ],
      "execution_count": 34,
      "outputs": [
        {
          "output_type": "stream",
          "text": [
            "700/700 [==============================] - 1s 2ms/step - loss: 0.5014 - accuracy: 0.7647\n"
          ],
          "name": "stdout"
        },
        {
          "output_type": "execute_result",
          "data": {
            "text/plain": [
              "[0.5014082193374634, 0.7647085189819336]"
            ]
          },
          "metadata": {
            "tags": []
          },
          "execution_count": 34
        }
      ]
    },
    {
      "cell_type": "code",
      "metadata": {
        "id": "wyxvM6eZ_-j-",
        "colab_type": "code",
        "colab": {}
      },
      "source": [
        "# Сохранение модели и весов\n",
        "model_json = model.to_json()\n",
        "with open('drive/My Drive/Colab Notebooks/data/model.json', 'w') as file:\n",
        "  file.write(model_json)\n",
        "model.save_weights('drive/My Drive/Colab Notebooks/data/model.h5')"
      ],
      "execution_count": 35,
      "outputs": []
    },
    {
      "cell_type": "code",
      "metadata": {
        "id": "5gCe-WriAyzO",
        "colab_type": "code",
        "colab": {
          "base_uri": "https://localhost:8080/",
          "height": 34
        },
        "outputId": "097eadc6-2826-4555-f113-95bc41b66b4b"
      },
      "source": [
        "# Проверка работы модели на коротких предложениях\n",
        "sent = ['хорошее утро сегодня']\n",
        "result = embed(sent)\n",
        "model.predict(np.array(result))"
      ],
      "execution_count": 36,
      "outputs": [
        {
          "output_type": "execute_result",
          "data": {
            "text/plain": [
              "array([[0.01762624, 0.9823737 ]], dtype=float32)"
            ]
          },
          "metadata": {
            "tags": []
          },
          "execution_count": 36
        }
      ]
    },
    {
      "cell_type": "code",
      "metadata": {
        "id": "ptw7btscBRAN",
        "colab_type": "code",
        "colab": {
          "base_uri": "https://localhost:8080/",
          "height": 34
        },
        "outputId": "f877cbe6-30ea-411a-9a9e-a9c25a7db67e"
      },
      "source": [
        "sent = ['дождливый день']\n",
        "result = embed(sent)\n",
        "model.predict(np.array(result))"
      ],
      "execution_count": 37,
      "outputs": [
        {
          "output_type": "execute_result",
          "data": {
            "text/plain": [
              "array([[9.994962e-01, 5.037950e-04]], dtype=float32)"
            ]
          },
          "metadata": {
            "tags": []
          },
          "execution_count": 37
        }
      ]
    },
    {
      "cell_type": "code",
      "metadata": {
        "id": "_2dgpM0HBa88",
        "colab_type": "code",
        "colab": {
          "base_uri": "https://localhost:8080/",
          "height": 34
        },
        "outputId": "375d038d-d407-4bf1-a9d3-34a42e5275e5"
      },
      "source": [
        "sent = ['пойдем сегодня в кино']\n",
        "result = embed(sent)\n",
        "model.predict(np.array(result))"
      ],
      "execution_count": 38,
      "outputs": [
        {
          "output_type": "execute_result",
          "data": {
            "text/plain": [
              "array([[0.14937133, 0.8506287 ]], dtype=float32)"
            ]
          },
          "metadata": {
            "tags": []
          },
          "execution_count": 38
        }
      ]
    },
    {
      "cell_type": "code",
      "metadata": {
        "id": "Jc_AIjmoBzAe",
        "colab_type": "code",
        "colab": {}
      },
      "source": [
        ""
      ],
      "execution_count": null,
      "outputs": []
    }
  ]
}