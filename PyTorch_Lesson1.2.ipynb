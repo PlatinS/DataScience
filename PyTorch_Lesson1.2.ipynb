{
 "cells": [
  {
   "cell_type": "markdown",
   "metadata": {},
   "source": [
    "### Первое занятие: Введение в PyTorch"
   ]
  },
  {
   "cell_type": "markdown",
   "metadata": {},
   "source": [
    "#### 2. Взять часть, где мы делали один шаг обучения, и обернуть его в цикл по схеме, как обучали модель в конце занятия."
   ]
  },
  {
   "cell_type": "code",
   "execution_count": 1,
   "metadata": {},
   "outputs": [],
   "source": [
    "import sys\n",
    "import numpy as np\n",
    "import torch\n",
    "from torch import nn \n",
    "from torch import optim\n",
    "from torch.autograd import Variable"
   ]
  },
  {
   "cell_type": "code",
   "execution_count": 2,
   "metadata": {},
   "outputs": [
    {
     "name": "stdout",
     "output_type": "stream",
     "text": [
      "Python : 3.7.7 (default, May  6 2020, 11:45:54) [MSC v.1916 64 bit (AMD64)]\n",
      "Pytorch: 1.6.0\n"
     ]
    }
   ],
   "source": [
    "print(\"Python : %s\" % sys.version)\n",
    "print(\"Pytorch: %s\" % torch.__version__)"
   ]
  },
  {
   "cell_type": "code",
   "execution_count": 3,
   "metadata": {},
   "outputs": [],
   "source": [
    "linear = nn.Linear(2, 2)\n",
    "criterion = nn.MSELoss()\n",
    "optimizer = optim.Adam(linear.parameters(), lr=0.001)"
   ]
  },
  {
   "cell_type": "code",
   "execution_count": 4,
   "metadata": {},
   "outputs": [
    {
     "data": {
      "text/plain": [
       "Linear(in_features=2, out_features=2, bias=True)"
      ]
     },
     "execution_count": 4,
     "metadata": {},
     "output_type": "execute_result"
    }
   ],
   "source": [
    "linear"
   ]
  },
  {
   "cell_type": "code",
   "execution_count": 5,
   "metadata": {},
   "outputs": [],
   "source": [
    "X = Variable(torch.randn(2), requires_grad = True)\n",
    "y = Variable(torch.randn(2), requires_grad = False)"
   ]
  },
  {
   "cell_type": "code",
   "execution_count": 6,
   "metadata": {},
   "outputs": [
    {
     "name": "stdout",
     "output_type": "stream",
     "text": [
      " 1. Loss: 0.479244\n",
      " 2. Loss: 0.477139\n",
      " 3. Loss: 0.475039\n",
      " 4. Loss: 0.472944\n",
      " 5. Loss: 0.470855\n",
      " 6. Loss: 0.468772\n",
      " 7. Loss: 0.466694\n",
      " 8. Loss: 0.464622\n",
      " 9. Loss: 0.462556\n",
      "10. Loss: 0.460495\n",
      "11. Loss: 0.458441\n",
      "12. Loss: 0.456392\n",
      "13. Loss: 0.454350\n",
      "14. Loss: 0.452314\n",
      "15. Loss: 0.450284\n",
      "16. Loss: 0.448260\n",
      "17. Loss: 0.446243\n",
      "18. Loss: 0.444232\n",
      "19. Loss: 0.442228\n",
      "20. Loss: 0.440230\n"
     ]
    }
   ],
   "source": [
    "for epochs in range(20):\n",
    "    optimizer.zero_grad()\n",
    "    pred = linear(X)\n",
    "    loss = criterion(pred, y)\n",
    "    print(f'{epochs+1:2d}. Loss: {loss.item():.6f}')\n",
    "    loss.backward()\n",
    "    #print (f'   weight.grad: {linear.weight.grad} bias.grad: {linear.bias.grad}')\n",
    "    optimizer.step()\n",
    "    #print (f'   weight: {linear.weight} bias: {linear.bias}')"
   ]
  },
  {
   "cell_type": "markdown",
   "metadata": {},
   "source": [
    "#### 3. Переписать эту программу на PyTorch:"
   ]
  },
  {
   "cell_type": "markdown",
   "metadata": {},
   "source": [
    "<img src=\"TF-model.png\">"
   ]
  },
  {
   "cell_type": "code",
   "execution_count": 7,
   "metadata": {},
   "outputs": [],
   "source": [
    "X = torch.randn((28, 28, 28))\n",
    "y = torch.randint(0, 10, (28,))"
   ]
  },
  {
   "cell_type": "code",
   "execution_count": 8,
   "metadata": {},
   "outputs": [],
   "source": [
    "model = nn.Sequential(\n",
    "     nn.Flatten(1),\n",
    "     nn.Linear(28 * 28, 128),\n",
    "     nn.ReLU(), \n",
    "     nn.Dropout(0.2),\n",
    "     nn.Linear(128, 10),\n",
    "     nn.Softmax(dim=1)\n",
    " )\n",
    "criterion = nn.CrossEntropyLoss()\n",
    "optimizer = torch.optim.Adam(model.parameters(), lr=0.001)"
   ]
  },
  {
   "cell_type": "code",
   "execution_count": 9,
   "metadata": {},
   "outputs": [
    {
     "name": "stdout",
     "output_type": "stream",
     "text": [
      " 1. Loss: 2.303832\n",
      " 2. Loss: 2.251093\n",
      " 3. Loss: 2.186713\n",
      " 4. Loss: 2.113738\n",
      " 5. Loss: 2.035635\n",
      " 6. Loss: 1.947673\n",
      " 7. Loss: 1.897673\n",
      " 8. Loss: 1.798880\n",
      " 9. Loss: 1.738779\n",
      "10. Loss: 1.680902\n",
      "11. Loss: 1.610170\n",
      "12. Loss: 1.589173\n",
      "13. Loss: 1.534463\n",
      "14. Loss: 1.518952\n",
      "15. Loss: 1.496578\n",
      "16. Loss: 1.498154\n",
      "17. Loss: 1.480776\n",
      "18. Loss: 1.481307\n",
      "19. Loss: 1.472786\n",
      "20. Loss: 1.469422\n"
     ]
    }
   ],
   "source": [
    "for epochs in range(20):\n",
    "    optimizer.zero_grad()\n",
    "    pred = model(X)\n",
    "    loss = criterion(pred, y)\n",
    "    print(f'{epochs+1:2d}. Loss: {loss.item():.6f}')\n",
    "    loss.backward()\n",
    "    optimizer.step()"
   ]
  },
  {
   "cell_type": "code",
   "execution_count": null,
   "metadata": {},
   "outputs": [],
   "source": []
  }
 ],
 "metadata": {
  "kernelspec": {
   "display_name": "Python 3",
   "language": "python",
   "name": "python3"
  },
  "language_info": {
   "codemirror_mode": {
    "name": "ipython",
    "version": 3
   },
   "file_extension": ".py",
   "mimetype": "text/x-python",
   "name": "python",
   "nbconvert_exporter": "python",
   "pygments_lexer": "ipython3",
   "version": "3.7.7"
  }
 },
 "nbformat": 4,
 "nbformat_minor": 4
}
