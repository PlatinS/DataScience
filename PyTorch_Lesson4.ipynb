{
 "cells": [
  {
   "cell_type": "code",
   "execution_count": 1,
   "metadata": {},
   "outputs": [],
   "source": [
    "import torch\n",
    "import torch.nn as nn"
   ]
  },
  {
   "cell_type": "code",
   "execution_count": 2,
   "metadata": {},
   "outputs": [],
   "source": [
    "class UNet(nn.Module):\n",
    "\n",
    "    def __init__(self, num_classes):\n",
    "        super(UNet, self).__init__()\n",
    "        self.num_classes = num_classes\n",
    "\n",
    "        # Левая сторона (Путь уменьшения размерности картинки)\n",
    "        self.down_conv_11 = self.conv_block(in_channels=3, out_channels=64)\n",
    "        self.down_conv_12 = nn.MaxPool2d(kernel_size=2, stride=2)\n",
    "        self.down_conv_21 = self.conv_block(in_channels=64, out_channels=128)\n",
    "        self.down_conv_22 = nn.MaxPool2d(kernel_size=2, stride=2)\n",
    "        self.down_conv_31 = self.conv_block(in_channels=128, out_channels=256)\n",
    "        self.down_conv_32 = nn.MaxPool2d(kernel_size=2, stride=2)\n",
    "        self.down_conv_41 = self.conv_block(in_channels=256, out_channels=512)\n",
    "        self.down_conv_42 = nn.MaxPool2d(kernel_size=2, stride=2)\n",
    "        \n",
    "        self.middle = self.conv_block(in_channels=512, out_channels=1024)\n",
    "        \n",
    "        # Правая сторона (Путь увеличения размерности картинки)\n",
    "        self.up_conv_11 = nn.ConvTranspose2d(in_channels=1024, out_channels=512, kernel_size=3, stride=2, padding=1, output_padding=1)\n",
    "        self.up_conv_12 = self.conv_block(in_channels=1024, out_channels=512)\n",
    "        self.up_conv_21 = nn.ConvTranspose2d(in_channels=512, out_channels=256, kernel_size=3, stride=2, padding=1, output_padding=1)\n",
    "        self.up_conv_22 = self.conv_block(in_channels=512, out_channels=256)\n",
    "        self.up_conv_31 = nn.ConvTranspose2d(in_channels=256, out_channels=128, kernel_size=3, stride=2, padding=1, output_padding=1)\n",
    "        self.up_conv_32 = self.conv_block(in_channels=256, out_channels=128)\n",
    "        self.up_conv_41 = nn.ConvTranspose2d(in_channels=128, out_channels=64, kernel_size=3, stride=2, padding=1, output_padding=1)\n",
    "        self.up_conv_42 = self.conv_block(in_channels=128, out_channels=64)\n",
    "        \n",
    "        self.output = nn.Conv2d(in_channels=64, out_channels=num_classes, kernel_size=3, stride=1, padding=1)\n",
    "    \n",
    "    @staticmethod\n",
    "    def conv_block(in_channels, out_channels):\n",
    "        block = nn.Sequential(nn.Conv2d(in_channels=in_channels, out_channels=out_channels, kernel_size=3, stride=1, padding=1),\n",
    "                                    nn.ReLU(),\n",
    "                                    nn.BatchNorm2d(num_features=out_channels),\n",
    "                                    nn.Conv2d(in_channels=out_channels, out_channels=out_channels, kernel_size=3, stride=1, padding=1),\n",
    "                                    nn.ReLU(),\n",
    "                                    nn.BatchNorm2d(num_features=out_channels))\n",
    "        return block\n",
    "    \n",
    "    @staticmethod\n",
    "    def crop_tensor(target_tensor, tensor):\n",
    "        target_size = target_tensor.size()[2]\n",
    "        tensor_size = tensor.size()[2]\n",
    "        delta = tensor_size - target_size\n",
    "        delta = delta // 2\n",
    "\n",
    "        return tensor[:,:, delta:tensor_size-delta, delta:tensor_size-delta]\n",
    "\n",
    "\n",
    "    def forward(self, X):\n",
    "        # Проход по левой стороне\n",
    "        x1 = self.down_conv_11(X) # [-1, 64, 256, 256]\n",
    "        x2 = self.down_conv_12(x1) # [-1, 64, 128, 128]\n",
    "        x3 = self.down_conv_21(x2) # [-1, 128, 128, 128]\n",
    "        x4 = self.down_conv_22(x3) # [-1, 128, 64, 64]\n",
    "        x5 = self.down_conv_31(x4) # [-1, 256, 64, 64]\n",
    "        x6 = self.down_conv_32(x5) # [-1, 256, 32, 32]\n",
    "        x7 = self.down_conv_41(x6) # [-1, 512, 32, 32]\n",
    "        x8 = self.down_conv_42(x7) # [-1, 512, 16, 16]\n",
    "        \n",
    "        middle_out = self.middle(x8) # [-1, 1024, 16, 16]\n",
    "\n",
    "        # Проход по правой стороне\n",
    "        x = self.up_conv_11(middle_out) # [-1, 512, 32, 32]\n",
    "        y = self.crop_tensor(x, x7)\n",
    "        x = self.up_conv_12(torch.cat((x, y), dim=1)) # [-1, 1024, 32, 32] -> [-1, 512, 32, 32]\n",
    "        \n",
    "        x = self.up_conv_21(x) # [-1, 256, 64, 64]\n",
    "        y = self.crop_tensor(x, x5)\n",
    "        x = self.up_conv_22(torch.cat((x, y), dim=1)) # [-1, 512, 64, 64] -> [-1, 256, 64, 64]\n",
    "        \n",
    "        x = self.up_conv_31(x) # [-1, 128, 128, 128]\n",
    "        y = self.crop_tensor(x, x3)\n",
    "        x = self.up_conv_32(torch.cat((x, y), dim=1)) # [-1, 256, 128, 128] -> [-1, 128, 128, 128]\n",
    "        \n",
    "        x = self.up_conv_41(x) # [-1, 64, 256, 256]\n",
    "        y = self.crop_tensor(x, x1)\n",
    "        x = self.up_conv_42(torch.cat((x, y), dim=1)) # [-1, 128, 256, 256] -> [-1, 64, 256, 256]\n",
    "        \n",
    "        output = self.output(x) # [-1, num_classes, 256, 256]\n",
    "\n",
    "        return output"
   ]
  },
  {
   "cell_type": "code",
   "execution_count": 3,
   "metadata": {},
   "outputs": [],
   "source": [
    "import numpy as np\n",
    "import pandas as pd\n",
    "import os\n",
    "import matplotlib.pyplot as plt"
   ]
  },
  {
   "cell_type": "code",
   "execution_count": 4,
   "metadata": {},
   "outputs": [
    {
     "data": {
      "text/plain": [
       "array([ 0.,  1.,  2.,  3.,  5.,  6.,  7.,  8.,  9., 10., 11., 12.],\n",
       "      dtype=float32)"
      ]
     },
     "execution_count": 4,
     "metadata": {},
     "output_type": "execute_result"
    }
   ],
   "source": [
    "np.unique(plt.imread('SS_Self_driving_Cars/dataA/dataA/CameraSeg/02_00_220.png')[:,:,0]*255)"
   ]
  },
  {
   "cell_type": "code",
   "execution_count": 5,
   "metadata": {},
   "outputs": [
    {
     "data": {
      "image/png": "[encoded data removed]",
      "text/plain": [
       "<Figure size 432x288 with 1 Axes>"
      ]
     },
     "metadata": {
      "needs_background": "light"
     },
     "output_type": "display_data"
    },
    {
     "data": {
      "image/png": "[encoded data removed]",
      "text/plain": [
       "<Figure size 432x288 with 1 Axes>"
      ]
     },
     "metadata": {
      "needs_background": "light"
     },
     "output_type": "display_data"
    },
    {
     "data": {
      "image/png": "[encoded data removed]",
      "text/plain": [
       "<Figure size 432x288 with 1 Axes>"
      ]
     },
     "metadata": {
      "needs_background": "light"
     },
     "output_type": "display_data"
    },
    {
     "data": {
      "image/png": "[encoded data removed]",
      "text/plain": [
       "<Figure size 432x288 with 1 Axes>"
      ]
     },
     "metadata": {
      "needs_background": "light"
     },
     "output_type": "display_data"
    },
    {
     "data": {
      "image/png": "[encoded data removed]",
      "text/plain": [
       "<Figure size 432x288 with 1 Axes>"
      ]
     },
     "metadata": {
      "needs_background": "light"
     },
     "output_type": "display_data"
    },
    {
     "data": {
      "image/png": "[encoded data removed]",
      "text/plain": [
       "<Figure size 432x288 with 1 Axes>"
      ]
     },
     "metadata": {
      "needs_background": "light"
     },
     "output_type": "display_data"
    },
    {
     "data": {
      "image/png": "[encoded data removed]",
      "text/plain": [
       "<Figure size 432x288 with 1 Axes>"
      ]
     },
     "metadata": {
      "needs_background": "light"
     },
     "output_type": "display_data"
    },
    {
     "data": {
      "image/png": "[encoded data removed]",
      "text/plain": [
       "<Figure size 432x288 with 1 Axes>"
      ]
     },
     "metadata": {
      "needs_background": "light"
     },
     "output_type": "display_data"
    },
    {
     "data": {
      "image/png": "[encoded data removed]",
      "text/plain": [
       "<Figure size 432x288 with 1 Axes>"
      ]
     },
     "metadata": {
      "needs_background": "light"
     },
     "output_type": "display_data"
    },
    {
     "data": {
      "image/png": "[encoded data removed]",
      "text/plain": [
       "<Figure size 432x288 with 1 Axes>"
      ]
     },
     "metadata": {
      "needs_background": "light"
     },
     "output_type": "display_data"
    },
    {
     "data": {
      "image/png": "[encoded data removed]",
      "text/plain": [
       "<Figure size 432x288 with 1 Axes>"
      ]
     },
     "metadata": {
      "needs_background": "light"
     },
     "output_type": "display_data"
    },
    {
     "data": {
      "image/png": "[encoded data removed]",
      "text/plain": [
       "<Figure size 432x288 with 1 Axes>"
      ]
     },
     "metadata": {
      "needs_background": "light"
     },
     "output_type": "display_data"
    }
   ],
   "source": [
    "for i in range(12):\n",
    "    mask = plt.imread('SS_Self_driving_Cars/dataA/dataA/CameraSeg/02_00_220.png')*255\n",
    "    mask = np.where(mask == i, 255, 0)\n",
    "    mask = mask[:,:,0]\n",
    "    plt.title(f'class {i}')\n",
    "    plt.imshow(mask)\n",
    "    plt.show()"
   ]
  },
  {
   "cell_type": "code",
   "execution_count": 6,
   "metadata": {},
   "outputs": [],
   "source": [
    "labels = ['Unlabeled','Building','Fence','Other',\n",
    "                'Pedestrian', 'Pole', 'Roadline', 'Road',\n",
    "                'Sidewalk', 'Vegetation', 'Car','Wall',\n",
    "                 'Traffic sign']"
   ]
  },
  {
   "cell_type": "code",
   "execution_count": 7,
   "metadata": {},
   "outputs": [
    {
     "data": {
      "text/plain": [
       "{0: 'Unlabeled',\n",
       " 1: 'Building',\n",
       " 2: 'Fence',\n",
       " 3: 'Other',\n",
       " 4: 'Pedestrian',\n",
       " 5: 'Pole',\n",
       " 6: 'Roadline',\n",
       " 7: 'Road',\n",
       " 8: 'Sidewalk',\n",
       " 9: 'Vegetation',\n",
       " 10: 'Car',\n",
       " 11: 'Wall',\n",
       " 12: 'Traffic sign'}"
      ]
     },
     "execution_count": 7,
     "metadata": {},
     "output_type": "execute_result"
    }
   ],
   "source": [
    "def get_index_label_dictionary(labels):\n",
    "    index_label_dictionary = {}\n",
    "    for i, label in enumerate(labels):\n",
    "        index_label_dictionary[i] = label\n",
    "    return index_label_dictionary\n",
    "\n",
    "get_index_label_dictionary(labels)"
   ]
  },
  {
   "cell_type": "code",
   "execution_count": 8,
   "metadata": {},
   "outputs": [],
   "source": [
    "# разделим всё на два списка с rgb картинками и seg\n",
    "cameraRGB = []\n",
    "cameraSeg = []\n",
    "for root, dirs, files in os.walk('SS_Self_driving_Cars'):\n",
    "    for name in files:\n",
    "        f = os.path.join(root, name)\n",
    "        if 'CameraRGB' in f:\n",
    "            cameraRGB.append(f)\n",
    "        elif 'CameraSeg' in f:\n",
    "            cameraSeg.append(f)\n",
    "        else:\n",
    "            break"
   ]
  },
  {
   "cell_type": "code",
   "execution_count": 9,
   "metadata": {},
   "outputs": [
    {
     "data": {
      "text/plain": [
       "5000"
      ]
     },
     "execution_count": 9,
     "metadata": {},
     "output_type": "execute_result"
    }
   ],
   "source": [
    "len(cameraRGB)"
   ]
  },
  {
   "cell_type": "code",
   "execution_count": 10,
   "metadata": {},
   "outputs": [
    {
     "data": {
      "text/plain": [
       "5000"
      ]
     },
     "execution_count": 10,
     "metadata": {},
     "output_type": "execute_result"
    }
   ],
   "source": [
    "len(cameraSeg)"
   ]
  },
  {
   "cell_type": "code",
   "execution_count": 11,
   "metadata": {},
   "outputs": [
    {
     "name": "stdout",
     "output_type": "stream",
     "text": [
      "                                           cameraRGB  \\\n",
      "0  SS_Self_driving_Cars\\dataA\\dataA\\CameraRGB\\02_...   \n",
      "1  SS_Self_driving_Cars\\dataA\\dataA\\CameraRGB\\02_...   \n",
      "2  SS_Self_driving_Cars\\dataA\\dataA\\CameraRGB\\02_...   \n",
      "3  SS_Self_driving_Cars\\dataA\\dataA\\CameraRGB\\02_...   \n",
      "4  SS_Self_driving_Cars\\dataA\\dataA\\CameraRGB\\02_...   \n",
      "\n",
      "                                           cameraSeg  \n",
      "0  SS_Self_driving_Cars\\dataA\\dataA\\CameraSeg\\02_...  \n",
      "1  SS_Self_driving_Cars\\dataA\\dataA\\CameraSeg\\02_...  \n",
      "2  SS_Self_driving_Cars\\dataA\\dataA\\CameraSeg\\02_...  \n",
      "3  SS_Self_driving_Cars\\dataA\\dataA\\CameraSeg\\02_...  \n",
      "4  SS_Self_driving_Cars\\dataA\\dataA\\CameraSeg\\02_...  \n"
     ]
    }
   ],
   "source": [
    "df = pd.DataFrame({'cameraRGB': cameraRGB, 'cameraSeg': cameraSeg})\n",
    "# Отсортируем датафрейм по значениям\n",
    "df.sort_values(by='cameraRGB',inplace=True)\n",
    "# Используем функцию, благодаря которой индексация значений будет начинаться с 0.\n",
    "df.reset_index(drop=True, inplace=True)\n",
    "# Выведем первые пять значений нашего датафрейма\n",
    "print(df.head(5))"
   ]
  },
  {
   "cell_type": "code",
   "execution_count": 12,
   "metadata": {},
   "outputs": [
    {
     "data": {
      "text/plain": [
       "'SS_Self_driving_Cars\\\\dataE\\\\dataE\\\\CameraRGB\\\\F9-99.png'"
      ]
     },
     "execution_count": 12,
     "metadata": {},
     "output_type": "execute_result"
    }
   ],
   "source": [
    "df.cameraRGB[4999]"
   ]
  },
  {
   "cell_type": "code",
   "execution_count": 13,
   "metadata": {},
   "outputs": [],
   "source": [
    "from torch.utils.data import Dataset, DataLoader\n",
    "from PIL import Image\n",
    "import torch\n",
    "from torch.nn import functional as F"
   ]
  },
  {
   "cell_type": "code",
   "execution_count": 14,
   "metadata": {},
   "outputs": [],
   "source": [
    "# Создадим класс для кастомного датасета\n",
    "class CustomDatasetFromImages(Dataset):\n",
    "    def __init__(self, data_info):\n",
    "        # Подаем наш подготовленный датафрейм\n",
    "        self.data_info = data_info\n",
    "        \n",
    "        # Разделяем датафрейм на rgb картинки \n",
    "        self.image_arr = self.data_info.iloc[:,0]\n",
    "        # и на сегментированные картинки\n",
    "        self.label_arr = self.data_info.iloc[:,1]\n",
    "        \n",
    "        # Количество пар картинка-сегментация\n",
    "        self.data_len = len(self.data_info.index)\n",
    "    def __getitem__(self, index):\n",
    "        # Читаем картинку и сразу же представляем ее в виде numpy-массива \n",
    "        # размера 600х800 float-значний\n",
    "        img = np.asarray(Image.open(self.image_arr[index])).astype('float')\n",
    "        # Нормализуем изображение в значениях [0,1]\n",
    "        img = torch.as_tensor(img)/255    \n",
    "        # 1) unsqueeze - меняет размерность img c (600, 800, 3) -> (1, 600, 800, 3),\n",
    "        # т.е. оборачивает картинку в батч размером в одну картинку\n",
    "        # 2) permute - меняет местами измерения , т.е. (1, 600, 800, 3) -> (1, 3, 600, 800)\n",
    "        img = img.unsqueeze(0).permute(0,3,1,2)\n",
    "        # Мы используем функцию интерполяции для того,\n",
    "        # чтобы поменять рамерность картинки с 800х600 на 256х256\n",
    "        img = F.interpolate(input=img, size=256, align_corners=False, mode='bicubic')\n",
    "        \n",
    "        # Читаем сегментированную картинку и сразу же представляем ее в виде numpy-массива \n",
    "        # размера 600х800 float-значний\n",
    "        lab = np.asarray(plt.imread(self.label_arr[index]))[:,:,0]*255\n",
    "        \n",
    "        # Упаковываем её в pytorch-тензор и оборачиваем ее в батч из одной картинки,\n",
    "        # но при этом заполняем 13 каналов масками нужных классов\n",
    "        # Т.е. там, где например класс автомобилей (10 по счету канал) - все пиксели 0 \n",
    "        # если не принадлежат классу, и 1 если принадлежат \n",
    "        x_out = torch.as_tensor(np.where(lab == 0, 255, 0)).unsqueeze(0)\n",
    "        for i in range(1, 12):\n",
    "            mask = np.asarray(plt.imread(self.label_arr[index]))[:,:,0]*255\n",
    "            mask = np.where(mask == i, 255, 0)\n",
    "            x = torch.as_tensor(mask).unsqueeze(0)\n",
    "            x_out =  torch.cat((x_out,x),dim=0)       \n",
    "        x_out = x_out.float()\n",
    "        \n",
    "        lab = x_out.unsqueeze(0)\n",
    "        # делаем ресайз картинки на 256х256\n",
    "        lab = F.interpolate(input=lab, size=256, mode='nearest')\n",
    "\n",
    "        return (img.float(), lab.float())\n",
    "\n",
    "    def __len__(self):\n",
    "        return self.data_len"
   ]
  },
  {
   "cell_type": "code",
   "execution_count": 15,
   "metadata": {},
   "outputs": [],
   "source": [
    "# Разделим датасет на тренировочную и тестовую выборки. И обернем их в наш кастомный класс.\n",
    "from sklearn.model_selection import train_test_split\n",
    "\n",
    "# 70 % в тренировочную выборку, 30 - в тестовую\n",
    "X_train, X_test = train_test_split(df, test_size=0.3)\n",
    "\n",
    "# Упорядочиваем индексацию\n",
    "X_train.reset_index(drop=True, inplace=True)\n",
    "X_test.reset_index(drop=True, inplace=True)"
   ]
  },
  {
   "cell_type": "code",
   "execution_count": 16,
   "metadata": {},
   "outputs": [
    {
     "name": "stdout",
     "output_type": "stream",
     "text": [
      "<class 'pandas.core.frame.DataFrame'>\n",
      "RangeIndex: 3500 entries, 0 to 3499\n",
      "Data columns (total 2 columns):\n",
      " #   Column     Non-Null Count  Dtype \n",
      "---  ------     --------------  ----- \n",
      " 0   cameraRGB  3500 non-null   object\n",
      " 1   cameraSeg  3500 non-null   object\n",
      "dtypes: object(2)\n",
      "memory usage: 54.8+ KB\n"
     ]
    }
   ],
   "source": [
    "X_train.info()"
   ]
  },
  {
   "cell_type": "code",
   "execution_count": 17,
   "metadata": {},
   "outputs": [],
   "source": [
    "# Оборачиваем каждую выборку в наш кастомный датасет\n",
    "train_data = CustomDatasetFromImages(X_train)\n",
    "test_data  = CustomDatasetFromImages(X_test)\n",
    "\n",
    "# Теперь обернем то, что получилось, в даталоадеры:\n",
    "train_data_loader = DataLoader(train_data, batch_size=1, shuffle=True)\n",
    "test_data_loader  = DataLoader(test_data,  batch_size=1, shuffle=False)"
   ]
  },
  {
   "cell_type": "code",
   "execution_count": 18,
   "metadata": {},
   "outputs": [
    {
     "data": {
      "text/plain": [
       "torch.Size([1, 3, 256, 256])"
      ]
     },
     "execution_count": 18,
     "metadata": {},
     "output_type": "execute_result"
    }
   ],
   "source": [
    "train_data.__getitem__(7)[0].shape"
   ]
  },
  {
   "cell_type": "code",
   "execution_count": 19,
   "metadata": {},
   "outputs": [
    {
     "data": {
      "text/plain": [
       "torch.Size([1, 12, 256, 256])"
      ]
     },
     "execution_count": 19,
     "metadata": {},
     "output_type": "execute_result"
    }
   ],
   "source": [
    "train_data.__getitem__(7)[1].shape"
   ]
  },
  {
   "cell_type": "code",
   "execution_count": 20,
   "metadata": {},
   "outputs": [],
   "source": [
    "# Обучение\n",
    "learning_rate = 0.001\n",
    "epochs = 5"
   ]
  },
  {
   "cell_type": "code",
   "execution_count": 21,
   "metadata": {},
   "outputs": [
    {
     "data": {
      "text/plain": [
       "device(type='cuda', index=0)"
      ]
     },
     "execution_count": 21,
     "metadata": {},
     "output_type": "execute_result"
    }
   ],
   "source": [
    "device = torch.device('cuda:0' if torch.cuda.is_available() else 'cpu')\n",
    "device"
   ]
  },
  {
   "cell_type": "code",
   "execution_count": 22,
   "metadata": {},
   "outputs": [],
   "source": [
    "# Определим нашу модель Unet для 12 классов:\n",
    "Umodel = UNet(num_classes=12).to(device)"
   ]
  },
  {
   "cell_type": "code",
   "execution_count": 23,
   "metadata": {},
   "outputs": [],
   "source": [
    "# Выберем оптимизирующую функцию и функцию потерь (целевая функция)\n",
    "optimizer = torch.optim.Adam(Umodel.parameters(), lr=learning_rate)\n",
    "\n",
    "class SoftDiceLoss(nn.Module):\n",
    "    def __init__(self, weight=None, size_average=True):\n",
    "        super(SoftDiceLoss, self).__init__()\n",
    "\n",
    "    def forward(self, logits, targets):\n",
    "        smooth = 1\n",
    "        num = targets.size(0)\n",
    "        probs = torch.sigmoid(logits)\n",
    "        m1 = probs.view(num, -1)\n",
    "        m2 = targets.view(num, -1)\n",
    "        intersection = (m1 * m2)\n",
    "\n",
    "        score = 2. * (intersection.sum(1) + smooth) / (m1.sum(1) + m2.sum(1) + smooth)\n",
    "        score = score.sum() / num\n",
    "        return score"
   ]
  },
  {
   "cell_type": "code",
   "execution_count": 24,
   "metadata": {},
   "outputs": [
    {
     "name": "stdout",
     "output_type": "stream",
     "text": [
      "5 Epochs, 3500 Total_steps per epoch\n"
     ]
    }
   ],
   "source": [
    "criterion = SoftDiceLoss()\n",
    "# Определим количество шагов внутри одной эпохи\n",
    "total_steps = len(train_data_loader)\n",
    "print(f\"{epochs} Epochs, {total_steps} Total_steps per epoch\")"
   ]
  },
  {
   "cell_type": "code",
   "execution_count": 25,
   "metadata": {},
   "outputs": [
    {
     "name": "stdout",
     "output_type": "stream",
     "text": [
      "Epoch:  1, Loss: 0.04271806\n",
      "Spend time for 300 images: 104.84999394416809 sec\n",
      "Epoch:  1, Loss: 0.00154855\n",
      "Spend time for 300 images: 100.7807765007019 sec\n",
      "Epoch:  1, Loss: 0.00109439\n",
      "Spend time for 300 images: 103.37323379516602 sec\n",
      "Epoch:  1, Loss: 0.00100046\n",
      "Spend time for 300 images: 108.15157723426819 sec\n",
      "Epoch:  1, Loss: 0.00460274\n",
      "Spend time for 300 images: 108.89520740509033 sec\n",
      "Epoch:  1, Loss: 0.00021610\n",
      "Spend time for 300 images: 108.83119750022888 sec\n",
      "Epoch:  1, Loss: 0.00006834\n",
      "Spend time for 300 images: 108.81369304656982 sec\n",
      "Epoch:  1, Loss: 0.00006452\n",
      "Spend time for 300 images: 108.85620164871216 sec\n",
      "Epoch:  1, Loss: 0.00002438\n",
      "Spend time for 300 images: 109.26377320289612 sec\n",
      "Epoch:  1, Loss: 0.00005447\n",
      "Spend time for 300 images: 109.235267162323 sec\n",
      "Epoch:  1, Loss: 0.00028031\n",
      "Spend time for 300 images: 109.38629531860352 sec\n",
      "Epoch  1, loss: 0.00448991\n",
      "Epoch:  2, Loss: 0.00008711\n",
      "Spend time for 300 images: 107.42644882202148 sec\n",
      "Epoch:  2, Loss: 0.00003383\n",
      "Spend time for 300 images: 107.37293887138367 sec\n",
      "Epoch:  2, Loss: 0.00000932\n",
      "Spend time for 300 images: 107.57247495651245 sec\n",
      "Epoch:  2, Loss: 0.00000591\n",
      "Spend time for 300 images: 106.30525135993958 sec\n",
      "Epoch:  2, Loss: 0.00000413\n",
      "Spend time for 300 images: 107.6234838962555 sec\n",
      "Epoch:  2, Loss: 0.00000347\n",
      "Spend time for 300 images: 107.77250957489014 sec\n",
      "Epoch:  2, Loss: 0.00052463\n",
      "Spend time for 300 images: 107.36743903160095 sec\n",
      "Epoch:  2, Loss: 0.00002991\n",
      "Spend time for 300 images: 108.25859546661377 sec\n",
      "Epoch:  2, Loss: 0.00000344\n",
      "Spend time for 300 images: 108.07106256484985 sec\n",
      "Epoch:  2, Loss: 0.00000159\n",
      "Spend time for 300 images: 107.78501200675964 sec\n",
      "Epoch:  2, Loss: 0.00000477\n",
      "Spend time for 300 images: 107.25341868400574 sec\n",
      "Epoch  2, loss: 0.00006083\n",
      "Epoch:  3, Loss: 0.00000091\n",
      "Spend time for 300 images: 106.11921811103821 sec\n",
      "Epoch:  3, Loss: 0.00000073\n",
      "Spend time for 300 images: 107.09939098358154 sec\n",
      "Epoch:  3, Loss: 0.00000061\n",
      "Spend time for 300 images: 107.33843398094177 sec\n",
      "Epoch:  3, Loss: 0.00000053\n",
      "Spend time for 300 images: 107.49096035957336 sec\n",
      "Epoch:  3, Loss: 0.00000045\n",
      "Spend time for 300 images: 107.8215184211731 sec\n",
      "Epoch:  3, Loss: 0.00000040\n",
      "Spend time for 300 images: 107.88653016090393 sec\n",
      "Epoch:  3, Loss: 0.00000035\n",
      "Spend time for 300 images: 107.6054801940918 sec\n",
      "Epoch:  3, Loss: 0.00000032\n",
      "Spend time for 300 images: 107.66349077224731 sec\n",
      "Epoch:  3, Loss: 0.00000029\n",
      "Spend time for 300 images: 107.47495770454407 sec\n",
      "Epoch:  3, Loss: 0.00000027\n",
      "Spend time for 300 images: 107.54196906089783 sec\n",
      "Epoch:  3, Loss: 0.00000025\n",
      "Spend time for 300 images: 107.7210021018982 sec\n",
      "Epoch  3, loss: 0.00000045\n",
      "Epoch:  4, Loss: 0.00000022\n",
      "Spend time for 300 images: 103.2912232875824 sec\n",
      "Epoch:  4, Loss: 0.00000020\n",
      "Spend time for 300 images: 100.59974503517151 sec\n",
      "Epoch:  4, Loss: 0.00000019\n",
      "Spend time for 300 images: 100.26368522644043 sec\n",
      "Epoch:  4, Loss: 0.00000019\n",
      "Spend time for 300 images: 101.54891228675842 sec\n",
      "Epoch:  4, Loss: 0.00000018\n",
      "Spend time for 300 images: 107.39644384384155 sec\n",
      "Epoch:  4, Loss: 0.00000017\n",
      "Spend time for 300 images: 105.00702238082886 sec\n",
      "Epoch:  4, Loss: 0.00000016\n",
      "Spend time for 300 images: 104.48042893409729 sec\n",
      "Epoch:  4, Loss: 0.00000016\n",
      "Spend time for 300 images: 104.35640716552734 sec\n",
      "Epoch:  4, Loss: 0.00000015\n",
      "Spend time for 300 images: 104.51443839073181 sec\n",
      "Epoch:  4, Loss: 0.00000015\n",
      "Spend time for 300 images: 104.88800120353699 sec\n",
      "Epoch:  4, Loss: 0.00000014\n",
      "Spend time for 300 images: 106.07621049880981 sec\n",
      "Epoch  4, loss: 0.00000017\n",
      "Epoch:  5, Loss: 0.00000014\n",
      "Spend time for 300 images: 106.86735010147095 sec\n",
      "Epoch:  5, Loss: 0.00000014\n",
      "Spend time for 300 images: 107.49046063423157 sec\n",
      "Epoch:  5, Loss: 0.00000013\n",
      "Spend time for 300 images: 107.46595573425293 sec\n",
      "Epoch:  5, Loss: 0.00000013\n",
      "Spend time for 300 images: 106.9063572883606 sec\n",
      "Epoch:  5, Loss: 0.00000013\n",
      "Spend time for 300 images: 107.22941398620605 sec\n",
      "Epoch:  5, Loss: 0.00000013\n",
      "Spend time for 300 images: 107.02887892723083 sec\n",
      "Epoch:  5, Loss: 0.00000013\n",
      "Spend time for 300 images: 107.30342721939087 sec\n",
      "Epoch:  5, Loss: 0.00000013\n",
      "Spend time for 300 images: 107.16590309143066 sec\n",
      "Epoch:  5, Loss: 0.00000013\n",
      "Spend time for 300 images: 107.25091743469238 sec\n",
      "Epoch:  5, Loss: 0.00000013\n",
      "Spend time for 300 images: 107.53696966171265 sec\n",
      "Epoch:  5, Loss: 0.00031618\n",
      "Spend time for 300 images: 107.35393452644348 sec\n",
      "Epoch  5, loss: 0.00002725\n"
     ]
    }
   ],
   "source": [
    "# Импортируем библиотеку time для расчета, сколько времени у нас уходит на одну эпоху\n",
    "import time\n",
    "from torch.autograd import Variable\n",
    "\n",
    "# Полезная функция для детектирования аномалий в процессе обучения\n",
    "torch.autograd.set_detect_anomaly(True)\n",
    "\n",
    "# Запускаем главный тренировочный цикл\n",
    "epoch_losses = []\n",
    "for epoch in range(epochs):\n",
    "    \n",
    "    time1 = time.time()\n",
    "    running_loss = 0.0\n",
    "    epoch_loss = []\n",
    "    for batch_idx, (data, labels) in enumerate(train_data_loader):\n",
    "        \n",
    "        data, labels = Variable(data), Variable(labels)        \n",
    "        data = data.to(device)\n",
    "        labels = labels.to(device)\n",
    "        \n",
    "        optimizer.zero_grad()\n",
    "        \n",
    "        outputs = Umodel(data[0])\n",
    "\n",
    "        loss = criterion(outputs, labels[0])\n",
    "        loss.backward()\n",
    "        optimizer.step()\n",
    "        \n",
    "        running_loss += loss.item()\n",
    "        epoch_loss.append(loss.item())\n",
    "        if (batch_idx+1) % 300 == 299:\n",
    "            print(f'Epoch: {epoch+1:2d}, Loss: {running_loss/300:.8f}')\n",
    "            time2 = time.time()\n",
    "            print(f'Spend time for 300 images: {time2-time1} sec')\n",
    "            time1 = time.time()\n",
    "            running_loss = 0.0\n",
    "    \n",
    "    print(f'Epoch {epoch+1:2d}, loss: {np.mean(epoch_loss):.8f}')\n",
    "    epoch_losses.append(epoch_loss)"
   ]
  },
  {
   "cell_type": "code",
   "execution_count": 27,
   "metadata": {},
   "outputs": [],
   "source": [
    "torch.save(Umodel.state_dict(), './Unet.pth')"
   ]
  },
  {
   "cell_type": "markdown",
   "metadata": {},
   "source": [
    "#### 2. Подготовка и обучение датасета https://www.kaggle.com/olekslu/makeup-lips-segmentation-28k-samples/notebooks"
   ]
  },
  {
   "cell_type": "code",
   "execution_count": 43,
   "metadata": {},
   "outputs": [],
   "source": [
    "path_img='./set-lipstick-original/720p/'\n",
    "path_mask='./set-lipstick-original/mask/'\n",
    "df_list=pd.read_csv('./set-lipstick-original/list.csv')\n",
    "\n",
    "df_list['filename']=path_img+df_list['filename']\n",
    "df_list['mask']=path_mask+df_list['mask']"
   ]
  },
  {
   "cell_type": "code",
   "execution_count": 44,
   "metadata": {},
   "outputs": [
    {
     "name": "stderr",
     "output_type": "stream",
     "text": [
      "C:\\Users\\samia\\Anaconda3\\lib\\site-packages\\ipykernel_launcher.py:3: SettingWithCopyWarning: \n",
      "A value is trying to be set on a copy of a slice from a DataFrame\n",
      "\n",
      "See the caveats in the documentation: https://pandas.pydata.org/pandas-docs/stable/user_guide/indexing.html#returning-a-view-versus-a-copy\n",
      "  This is separate from the ipykernel package so we can avoid doing imports until\n"
     ]
    }
   ],
   "source": [
    "df_list['is_files']=False\n",
    "for dx in range(df_list.shape[0]):\n",
    "    df_list['is_files'][dx]=(os.access(df_list['mask'][dx],os.F_OK) & os.access(df_list['filename'][dx],os.F_OK))\n",
    "df_list=df_list[df_list['is_files']==True] "
   ]
  },
  {
   "cell_type": "code",
   "execution_count": 45,
   "metadata": {},
   "outputs": [
    {
     "data": {
      "text/html": [
       "<div>\n",
       "<style scoped>\n",
       "    .dataframe tbody tr th:only-of-type {\n",
       "        vertical-align: middle;\n",
       "    }\n",
       "\n",
       "    .dataframe tbody tr th {\n",
       "        vertical-align: top;\n",
       "    }\n",
       "\n",
       "    .dataframe thead th {\n",
       "        text-align: right;\n",
       "    }\n",
       "</style>\n",
       "<table border=\"1\" class=\"dataframe\">\n",
       "  <thead>\n",
       "    <tr style=\"text-align: right;\">\n",
       "      <th></th>\n",
       "      <th>filename</th>\n",
       "      <th>width</th>\n",
       "      <th>height</th>\n",
       "      <th>class</th>\n",
       "      <th>xmin</th>\n",
       "      <th>ymin</th>\n",
       "      <th>xmax</th>\n",
       "      <th>ymax</th>\n",
       "      <th>mask</th>\n",
       "      <th>is_files</th>\n",
       "    </tr>\n",
       "  </thead>\n",
       "  <tbody>\n",
       "    <tr>\n",
       "      <th>0</th>\n",
       "      <td>./set-lipstick-original/720p/image00000001.jpg</td>\n",
       "      <td>1280</td>\n",
       "      <td>720</td>\n",
       "      <td>Lips</td>\n",
       "      <td>661</td>\n",
       "      <td>394</td>\n",
       "      <td>776</td>\n",
       "      <td>444</td>\n",
       "      <td>./set-lipstick-original/mask/mask00000001.png</td>\n",
       "      <td>True</td>\n",
       "    </tr>\n",
       "    <tr>\n",
       "      <th>1</th>\n",
       "      <td>./set-lipstick-original/720p/image00000002.jpg</td>\n",
       "      <td>1280</td>\n",
       "      <td>720</td>\n",
       "      <td>Lips</td>\n",
       "      <td>557</td>\n",
       "      <td>336</td>\n",
       "      <td>682</td>\n",
       "      <td>392</td>\n",
       "      <td>./set-lipstick-original/mask/mask00000002.png</td>\n",
       "      <td>True</td>\n",
       "    </tr>\n",
       "    <tr>\n",
       "      <th>2</th>\n",
       "      <td>./set-lipstick-original/720p/image00000003.jpg</td>\n",
       "      <td>1280</td>\n",
       "      <td>720</td>\n",
       "      <td>Lips</td>\n",
       "      <td>553</td>\n",
       "      <td>369</td>\n",
       "      <td>684</td>\n",
       "      <td>427</td>\n",
       "      <td>./set-lipstick-original/mask/mask00000003.png</td>\n",
       "      <td>True</td>\n",
       "    </tr>\n",
       "    <tr>\n",
       "      <th>3</th>\n",
       "      <td>./set-lipstick-original/720p/image00000004.jpg</td>\n",
       "      <td>1280</td>\n",
       "      <td>720</td>\n",
       "      <td>Lips</td>\n",
       "      <td>555</td>\n",
       "      <td>351</td>\n",
       "      <td>681</td>\n",
       "      <td>408</td>\n",
       "      <td>./set-lipstick-original/mask/mask00000004.png</td>\n",
       "      <td>True</td>\n",
       "    </tr>\n",
       "    <tr>\n",
       "      <th>4</th>\n",
       "      <td>./set-lipstick-original/720p/image00000005.jpg</td>\n",
       "      <td>1280</td>\n",
       "      <td>720</td>\n",
       "      <td>Lips</td>\n",
       "      <td>555</td>\n",
       "      <td>351</td>\n",
       "      <td>680</td>\n",
       "      <td>407</td>\n",
       "      <td>./set-lipstick-original/mask/mask00000005.png</td>\n",
       "      <td>True</td>\n",
       "    </tr>\n",
       "    <tr>\n",
       "      <th>...</th>\n",
       "      <td>...</td>\n",
       "      <td>...</td>\n",
       "      <td>...</td>\n",
       "      <td>...</td>\n",
       "      <td>...</td>\n",
       "      <td>...</td>\n",
       "      <td>...</td>\n",
       "      <td>...</td>\n",
       "      <td>...</td>\n",
       "      <td>...</td>\n",
       "    </tr>\n",
       "    <tr>\n",
       "      <th>28589</th>\n",
       "      <td>./set-lipstick-original/720p/image00028590.jpg</td>\n",
       "      <td>1280</td>\n",
       "      <td>720</td>\n",
       "      <td>Lips</td>\n",
       "      <td>657</td>\n",
       "      <td>347</td>\n",
       "      <td>817</td>\n",
       "      <td>450</td>\n",
       "      <td>./set-lipstick-original/mask/mask00028590.png</td>\n",
       "      <td>True</td>\n",
       "    </tr>\n",
       "    <tr>\n",
       "      <th>28590</th>\n",
       "      <td>./set-lipstick-original/720p/image00028591.jpg</td>\n",
       "      <td>1280</td>\n",
       "      <td>720</td>\n",
       "      <td>Lips</td>\n",
       "      <td>713</td>\n",
       "      <td>325</td>\n",
       "      <td>884</td>\n",
       "      <td>388</td>\n",
       "      <td>./set-lipstick-original/mask/mask00028591.png</td>\n",
       "      <td>True</td>\n",
       "    </tr>\n",
       "    <tr>\n",
       "      <th>28591</th>\n",
       "      <td>./set-lipstick-original/720p/image00028592.jpg</td>\n",
       "      <td>1280</td>\n",
       "      <td>720</td>\n",
       "      <td>Lips</td>\n",
       "      <td>659</td>\n",
       "      <td>401</td>\n",
       "      <td>808</td>\n",
       "      <td>488</td>\n",
       "      <td>./set-lipstick-original/mask/mask00028592.png</td>\n",
       "      <td>True</td>\n",
       "    </tr>\n",
       "    <tr>\n",
       "      <th>28592</th>\n",
       "      <td>./set-lipstick-original/720p/image00028593.jpg</td>\n",
       "      <td>1280</td>\n",
       "      <td>720</td>\n",
       "      <td>Lips</td>\n",
       "      <td>689</td>\n",
       "      <td>334</td>\n",
       "      <td>839</td>\n",
       "      <td>431</td>\n",
       "      <td>./set-lipstick-original/mask/mask00028593.png</td>\n",
       "      <td>True</td>\n",
       "    </tr>\n",
       "    <tr>\n",
       "      <th>28593</th>\n",
       "      <td>./set-lipstick-original/720p/image00028594.jpg</td>\n",
       "      <td>1280</td>\n",
       "      <td>720</td>\n",
       "      <td>Lips</td>\n",
       "      <td>657</td>\n",
       "      <td>381</td>\n",
       "      <td>817</td>\n",
       "      <td>476</td>\n",
       "      <td>./set-lipstick-original/mask/mask00028594.png</td>\n",
       "      <td>True</td>\n",
       "    </tr>\n",
       "  </tbody>\n",
       "</table>\n",
       "<p>28540 rows × 10 columns</p>\n",
       "</div>"
      ],
      "text/plain": [
       "                                             filename  width  height class  \\\n",
       "0      ./set-lipstick-original/720p/image00000001.jpg   1280     720  Lips   \n",
       "1      ./set-lipstick-original/720p/image00000002.jpg   1280     720  Lips   \n",
       "2      ./set-lipstick-original/720p/image00000003.jpg   1280     720  Lips   \n",
       "3      ./set-lipstick-original/720p/image00000004.jpg   1280     720  Lips   \n",
       "4      ./set-lipstick-original/720p/image00000005.jpg   1280     720  Lips   \n",
       "...                                               ...    ...     ...   ...   \n",
       "28589  ./set-lipstick-original/720p/image00028590.jpg   1280     720  Lips   \n",
       "28590  ./set-lipstick-original/720p/image00028591.jpg   1280     720  Lips   \n",
       "28591  ./set-lipstick-original/720p/image00028592.jpg   1280     720  Lips   \n",
       "28592  ./set-lipstick-original/720p/image00028593.jpg   1280     720  Lips   \n",
       "28593  ./set-lipstick-original/720p/image00028594.jpg   1280     720  Lips   \n",
       "\n",
       "       xmin  ymin  xmax  ymax                                           mask  \\\n",
       "0       661   394   776   444  ./set-lipstick-original/mask/mask00000001.png   \n",
       "1       557   336   682   392  ./set-lipstick-original/mask/mask00000002.png   \n",
       "2       553   369   684   427  ./set-lipstick-original/mask/mask00000003.png   \n",
       "3       555   351   681   408  ./set-lipstick-original/mask/mask00000004.png   \n",
       "4       555   351   680   407  ./set-lipstick-original/mask/mask00000005.png   \n",
       "...     ...   ...   ...   ...                                            ...   \n",
       "28589   657   347   817   450  ./set-lipstick-original/mask/mask00028590.png   \n",
       "28590   713   325   884   388  ./set-lipstick-original/mask/mask00028591.png   \n",
       "28591   659   401   808   488  ./set-lipstick-original/mask/mask00028592.png   \n",
       "28592   689   334   839   431  ./set-lipstick-original/mask/mask00028593.png   \n",
       "28593   657   381   817   476  ./set-lipstick-original/mask/mask00028594.png   \n",
       "\n",
       "       is_files  \n",
       "0          True  \n",
       "1          True  \n",
       "2          True  \n",
       "3          True  \n",
       "4          True  \n",
       "...         ...  \n",
       "28589      True  \n",
       "28590      True  \n",
       "28591      True  \n",
       "28592      True  \n",
       "28593      True  \n",
       "\n",
       "[28540 rows x 10 columns]"
      ]
     },
     "execution_count": 45,
     "metadata": {},
     "output_type": "execute_result"
    }
   ],
   "source": [
    "df_list"
   ]
  },
  {
   "cell_type": "code",
   "execution_count": 46,
   "metadata": {},
   "outputs": [
    {
     "name": "stdout",
     "output_type": "stream",
     "text": [
      "                                        cameraRGB  \\\n",
      "0  ./set-lipstick-original/720p/image00000001.jpg   \n",
      "1  ./set-lipstick-original/720p/image00000002.jpg   \n",
      "2  ./set-lipstick-original/720p/image00000003.jpg   \n",
      "3  ./set-lipstick-original/720p/image00000004.jpg   \n",
      "4  ./set-lipstick-original/720p/image00000005.jpg   \n",
      "\n",
      "                                       cameraSeg  \n",
      "0  ./set-lipstick-original/mask/mask00000001.png  \n",
      "1  ./set-lipstick-original/mask/mask00000002.png  \n",
      "2  ./set-lipstick-original/mask/mask00000003.png  \n",
      "3  ./set-lipstick-original/mask/mask00000004.png  \n",
      "4  ./set-lipstick-original/mask/mask00000005.png  \n"
     ]
    }
   ],
   "source": [
    "df = pd.DataFrame({'cameraRGB': df_list['filename'], 'cameraSeg': df_list['mask']})\n",
    "# Отсортируем  датафрейм по значениям\n",
    "df.sort_values(by='cameraRGB',inplace=True)\n",
    "# Используем функцию,\n",
    "# лагодаря которой индексация значений \n",
    "# будет начинаться с 0.\n",
    "df.reset_index(drop=True, inplace=True)\n",
    "# Выведем первые ять значений нашего датафрейма\n",
    "print(df.head(5))"
   ]
  },
  {
   "cell_type": "code",
   "execution_count": 47,
   "metadata": {},
   "outputs": [],
   "source": [
    "from sklearn.model_selection import train_test_split\n",
    "\n",
    "# 70 % в тренировочную выборку, 30 - в тестовую\n",
    "X_train, X_test = train_test_split(df,test_size=0.3)\n",
    "\n",
    "# Упорядочиваем индексацию\n",
    "X_train.reset_index(drop=True,inplace=True)\n",
    "X_test.reset_index(drop=True,inplace=True)\n",
    "\n",
    "# Оборачиваем каждую выборку в наш кастомный датасет\n",
    "train_data = CustomDatasetFromImages(X_train)\n",
    "test_data = CustomDatasetFromImages(X_test)\n",
    "\n",
    "train_data_loader = DataLoader(train_data,batch_size=1,shuffle=True)\n",
    "test_data_loader = DataLoader(test_data,batch_size=1,shuffle=False)"
   ]
  },
  {
   "cell_type": "code",
   "execution_count": 48,
   "metadata": {},
   "outputs": [],
   "source": [
    "#!pip install segmentation_models_pytorch\n",
    "#!pip install albumentations\n",
    "import time\n",
    "import segmentation_models_pytorch as smp"
   ]
  },
  {
   "cell_type": "code",
   "execution_count": 49,
   "metadata": {},
   "outputs": [
    {
     "data": {
      "text/html": [
       "<div>\n",
       "<style scoped>\n",
       "    .dataframe tbody tr th:only-of-type {\n",
       "        vertical-align: middle;\n",
       "    }\n",
       "\n",
       "    .dataframe tbody tr th {\n",
       "        vertical-align: top;\n",
       "    }\n",
       "\n",
       "    .dataframe thead th {\n",
       "        text-align: right;\n",
       "    }\n",
       "</style>\n",
       "<table border=\"1\" class=\"dataframe\">\n",
       "  <thead>\n",
       "    <tr style=\"text-align: right;\">\n",
       "      <th></th>\n",
       "      <th>cameraRGB</th>\n",
       "      <th>cameraSeg</th>\n",
       "    </tr>\n",
       "  </thead>\n",
       "  <tbody>\n",
       "    <tr>\n",
       "      <th>0</th>\n",
       "      <td>./set-lipstick-original/720p/image00023774.jpg</td>\n",
       "      <td>./set-lipstick-original/mask/mask00023774.png</td>\n",
       "    </tr>\n",
       "    <tr>\n",
       "      <th>1</th>\n",
       "      <td>./set-lipstick-original/720p/image00027670.jpg</td>\n",
       "      <td>./set-lipstick-original/mask/mask00027670.png</td>\n",
       "    </tr>\n",
       "    <tr>\n",
       "      <th>2</th>\n",
       "      <td>./set-lipstick-original/720p/image00015328.jpg</td>\n",
       "      <td>./set-lipstick-original/mask/mask00015328.png</td>\n",
       "    </tr>\n",
       "    <tr>\n",
       "      <th>3</th>\n",
       "      <td>./set-lipstick-original/720p/image00022909.jpg</td>\n",
       "      <td>./set-lipstick-original/mask/mask00022909.png</td>\n",
       "    </tr>\n",
       "    <tr>\n",
       "      <th>4</th>\n",
       "      <td>./set-lipstick-original/720p/image00009859.jpg</td>\n",
       "      <td>./set-lipstick-original/mask/mask00009859.png</td>\n",
       "    </tr>\n",
       "    <tr>\n",
       "      <th>...</th>\n",
       "      <td>...</td>\n",
       "      <td>...</td>\n",
       "    </tr>\n",
       "    <tr>\n",
       "      <th>19973</th>\n",
       "      <td>./set-lipstick-original/720p/image00013281.jpg</td>\n",
       "      <td>./set-lipstick-original/mask/mask00013281.png</td>\n",
       "    </tr>\n",
       "    <tr>\n",
       "      <th>19974</th>\n",
       "      <td>./set-lipstick-original/720p/image00017174.jpg</td>\n",
       "      <td>./set-lipstick-original/mask/mask00017174.png</td>\n",
       "    </tr>\n",
       "    <tr>\n",
       "      <th>19975</th>\n",
       "      <td>./set-lipstick-original/720p/image00014040.jpg</td>\n",
       "      <td>./set-lipstick-original/mask/mask00014040.png</td>\n",
       "    </tr>\n",
       "    <tr>\n",
       "      <th>19976</th>\n",
       "      <td>./set-lipstick-original/720p/image00020028.jpg</td>\n",
       "      <td>./set-lipstick-original/mask/mask00020028.png</td>\n",
       "    </tr>\n",
       "    <tr>\n",
       "      <th>19977</th>\n",
       "      <td>./set-lipstick-original/720p/image00004270.jpg</td>\n",
       "      <td>./set-lipstick-original/mask/mask00004270.png</td>\n",
       "    </tr>\n",
       "  </tbody>\n",
       "</table>\n",
       "<p>19978 rows × 2 columns</p>\n",
       "</div>"
      ],
      "text/plain": [
       "                                            cameraRGB  \\\n",
       "0      ./set-lipstick-original/720p/image00023774.jpg   \n",
       "1      ./set-lipstick-original/720p/image00027670.jpg   \n",
       "2      ./set-lipstick-original/720p/image00015328.jpg   \n",
       "3      ./set-lipstick-original/720p/image00022909.jpg   \n",
       "4      ./set-lipstick-original/720p/image00009859.jpg   \n",
       "...                                               ...   \n",
       "19973  ./set-lipstick-original/720p/image00013281.jpg   \n",
       "19974  ./set-lipstick-original/720p/image00017174.jpg   \n",
       "19975  ./set-lipstick-original/720p/image00014040.jpg   \n",
       "19976  ./set-lipstick-original/720p/image00020028.jpg   \n",
       "19977  ./set-lipstick-original/720p/image00004270.jpg   \n",
       "\n",
       "                                           cameraSeg  \n",
       "0      ./set-lipstick-original/mask/mask00023774.png  \n",
       "1      ./set-lipstick-original/mask/mask00027670.png  \n",
       "2      ./set-lipstick-original/mask/mask00015328.png  \n",
       "3      ./set-lipstick-original/mask/mask00022909.png  \n",
       "4      ./set-lipstick-original/mask/mask00009859.png  \n",
       "...                                              ...  \n",
       "19973  ./set-lipstick-original/mask/mask00013281.png  \n",
       "19974  ./set-lipstick-original/mask/mask00017174.png  \n",
       "19975  ./set-lipstick-original/mask/mask00014040.png  \n",
       "19976  ./set-lipstick-original/mask/mask00020028.png  \n",
       "19977  ./set-lipstick-original/mask/mask00004270.png  \n",
       "\n",
       "[19978 rows x 2 columns]"
      ]
     },
     "execution_count": 49,
     "metadata": {},
     "output_type": "execute_result"
    }
   ],
   "source": [
    "#data=torch.from_numpy(train_data_loader).float().to(device)\n",
    "train_data.data_info"
   ]
  },
  {
   "cell_type": "code",
   "execution_count": 51,
   "metadata": {},
   "outputs": [
    {
     "name": "stdout",
     "output_type": "stream",
     "text": [
      "1 epochs, 19978 total_steps per epoch\n",
      "Epoch:  1, Batchcount: 499, Avg. Loss: 0.97934322\n",
      "Epoch:  1, Batchcount: 999, Avg. Loss: 0.96822321\n",
      "Epoch:  1, Batchcount: 1499, Avg. Loss: 0.96811155\n",
      "Epoch:  1, Batchcount: 1999, Avg. Loss: 0.96803104\n",
      "Epoch:  1, Batchcount: 2499, Avg. Loss: 0.96809339\n"
     ]
    },
    {
     "ename": "IndexError",
     "evalue": "too many indices for array",
     "output_type": "error",
     "traceback": [
      "\u001b[1;31m---------------------------------------------------------------------------\u001b[0m",
      "\u001b[1;31mIndexError\u001b[0m                                Traceback (most recent call last)",
      "\u001b[1;32m<ipython-input-51-765eec7f0c02>\u001b[0m in \u001b[0;36m<module>\u001b[1;34m\u001b[0m\n\u001b[0;32m     18\u001b[0m     \u001b[0mt\u001b[0m \u001b[1;33m=\u001b[0m \u001b[1;36m0\u001b[0m\u001b[1;33m\u001b[0m\u001b[1;33m\u001b[0m\u001b[0m\n\u001b[0;32m     19\u001b[0m     \u001b[0mtime1\u001b[0m \u001b[1;33m=\u001b[0m \u001b[0mtime\u001b[0m\u001b[1;33m.\u001b[0m\u001b[0mtime\u001b[0m\u001b[1;33m(\u001b[0m\u001b[1;33m)\u001b[0m\u001b[1;33m\u001b[0m\u001b[1;33m\u001b[0m\u001b[0m\n\u001b[1;32m---> 20\u001b[1;33m     \u001b[1;32mfor\u001b[0m \u001b[0mi\u001b[0m\u001b[1;33m,\u001b[0m \u001b[0mdata\u001b[0m \u001b[1;32min\u001b[0m \u001b[0menumerate\u001b[0m\u001b[1;33m(\u001b[0m\u001b[0mtrain_data_loader\u001b[0m\u001b[1;33m,\u001b[0m \u001b[1;36m0\u001b[0m\u001b[1;33m)\u001b[0m\u001b[1;33m:\u001b[0m\u001b[1;33m\u001b[0m\u001b[1;33m\u001b[0m\u001b[0m\n\u001b[0m\u001b[0;32m     21\u001b[0m         \u001b[1;31m# get the inputs; data is a list of [inputs, labels]\u001b[0m\u001b[1;33m\u001b[0m\u001b[1;33m\u001b[0m\u001b[1;33m\u001b[0m\u001b[0m\n\u001b[0;32m     22\u001b[0m         \u001b[0minputs\u001b[0m\u001b[1;33m,\u001b[0m \u001b[0mlabels\u001b[0m \u001b[1;33m=\u001b[0m \u001b[0mdata\u001b[0m\u001b[1;33m\u001b[0m\u001b[1;33m\u001b[0m\u001b[0m\n",
      "\u001b[1;32m~\\Anaconda3\\lib\\site-packages\\torch\\utils\\data\\dataloader.py\u001b[0m in \u001b[0;36m__next__\u001b[1;34m(self)\u001b[0m\n\u001b[0;32m    361\u001b[0m \u001b[1;33m\u001b[0m\u001b[0m\n\u001b[0;32m    362\u001b[0m     \u001b[1;32mdef\u001b[0m \u001b[0m__next__\u001b[0m\u001b[1;33m(\u001b[0m\u001b[0mself\u001b[0m\u001b[1;33m)\u001b[0m\u001b[1;33m:\u001b[0m\u001b[1;33m\u001b[0m\u001b[1;33m\u001b[0m\u001b[0m\n\u001b[1;32m--> 363\u001b[1;33m         \u001b[0mdata\u001b[0m \u001b[1;33m=\u001b[0m \u001b[0mself\u001b[0m\u001b[1;33m.\u001b[0m\u001b[0m_next_data\u001b[0m\u001b[1;33m(\u001b[0m\u001b[1;33m)\u001b[0m\u001b[1;33m\u001b[0m\u001b[1;33m\u001b[0m\u001b[0m\n\u001b[0m\u001b[0;32m    364\u001b[0m         \u001b[0mself\u001b[0m\u001b[1;33m.\u001b[0m\u001b[0m_num_yielded\u001b[0m \u001b[1;33m+=\u001b[0m \u001b[1;36m1\u001b[0m\u001b[1;33m\u001b[0m\u001b[1;33m\u001b[0m\u001b[0m\n\u001b[0;32m    365\u001b[0m         \u001b[1;32mif\u001b[0m \u001b[0mself\u001b[0m\u001b[1;33m.\u001b[0m\u001b[0m_dataset_kind\u001b[0m \u001b[1;33m==\u001b[0m \u001b[0m_DatasetKind\u001b[0m\u001b[1;33m.\u001b[0m\u001b[0mIterable\u001b[0m \u001b[1;32mand\u001b[0m\u001b[0;31m \u001b[0m\u001b[0;31m\\\u001b[0m\u001b[1;33m\u001b[0m\u001b[1;33m\u001b[0m\u001b[0m\n",
      "\u001b[1;32m~\\Anaconda3\\lib\\site-packages\\torch\\utils\\data\\dataloader.py\u001b[0m in \u001b[0;36m_next_data\u001b[1;34m(self)\u001b[0m\n\u001b[0;32m    401\u001b[0m     \u001b[1;32mdef\u001b[0m \u001b[0m_next_data\u001b[0m\u001b[1;33m(\u001b[0m\u001b[0mself\u001b[0m\u001b[1;33m)\u001b[0m\u001b[1;33m:\u001b[0m\u001b[1;33m\u001b[0m\u001b[1;33m\u001b[0m\u001b[0m\n\u001b[0;32m    402\u001b[0m         \u001b[0mindex\u001b[0m \u001b[1;33m=\u001b[0m \u001b[0mself\u001b[0m\u001b[1;33m.\u001b[0m\u001b[0m_next_index\u001b[0m\u001b[1;33m(\u001b[0m\u001b[1;33m)\u001b[0m  \u001b[1;31m# may raise StopIteration\u001b[0m\u001b[1;33m\u001b[0m\u001b[1;33m\u001b[0m\u001b[0m\n\u001b[1;32m--> 403\u001b[1;33m         \u001b[0mdata\u001b[0m \u001b[1;33m=\u001b[0m \u001b[0mself\u001b[0m\u001b[1;33m.\u001b[0m\u001b[0m_dataset_fetcher\u001b[0m\u001b[1;33m.\u001b[0m\u001b[0mfetch\u001b[0m\u001b[1;33m(\u001b[0m\u001b[0mindex\u001b[0m\u001b[1;33m)\u001b[0m  \u001b[1;31m# may raise StopIteration\u001b[0m\u001b[1;33m\u001b[0m\u001b[1;33m\u001b[0m\u001b[0m\n\u001b[0m\u001b[0;32m    404\u001b[0m         \u001b[1;32mif\u001b[0m \u001b[0mself\u001b[0m\u001b[1;33m.\u001b[0m\u001b[0m_pin_memory\u001b[0m\u001b[1;33m:\u001b[0m\u001b[1;33m\u001b[0m\u001b[1;33m\u001b[0m\u001b[0m\n\u001b[0;32m    405\u001b[0m             \u001b[0mdata\u001b[0m \u001b[1;33m=\u001b[0m \u001b[0m_utils\u001b[0m\u001b[1;33m.\u001b[0m\u001b[0mpin_memory\u001b[0m\u001b[1;33m.\u001b[0m\u001b[0mpin_memory\u001b[0m\u001b[1;33m(\u001b[0m\u001b[0mdata\u001b[0m\u001b[1;33m)\u001b[0m\u001b[1;33m\u001b[0m\u001b[1;33m\u001b[0m\u001b[0m\n",
      "\u001b[1;32m~\\Anaconda3\\lib\\site-packages\\torch\\utils\\data\\_utils\\fetch.py\u001b[0m in \u001b[0;36mfetch\u001b[1;34m(self, possibly_batched_index)\u001b[0m\n\u001b[0;32m     42\u001b[0m     \u001b[1;32mdef\u001b[0m \u001b[0mfetch\u001b[0m\u001b[1;33m(\u001b[0m\u001b[0mself\u001b[0m\u001b[1;33m,\u001b[0m \u001b[0mpossibly_batched_index\u001b[0m\u001b[1;33m)\u001b[0m\u001b[1;33m:\u001b[0m\u001b[1;33m\u001b[0m\u001b[1;33m\u001b[0m\u001b[0m\n\u001b[0;32m     43\u001b[0m         \u001b[1;32mif\u001b[0m \u001b[0mself\u001b[0m\u001b[1;33m.\u001b[0m\u001b[0mauto_collation\u001b[0m\u001b[1;33m:\u001b[0m\u001b[1;33m\u001b[0m\u001b[1;33m\u001b[0m\u001b[0m\n\u001b[1;32m---> 44\u001b[1;33m             \u001b[0mdata\u001b[0m \u001b[1;33m=\u001b[0m \u001b[1;33m[\u001b[0m\u001b[0mself\u001b[0m\u001b[1;33m.\u001b[0m\u001b[0mdataset\u001b[0m\u001b[1;33m[\u001b[0m\u001b[0midx\u001b[0m\u001b[1;33m]\u001b[0m \u001b[1;32mfor\u001b[0m \u001b[0midx\u001b[0m \u001b[1;32min\u001b[0m \u001b[0mpossibly_batched_index\u001b[0m\u001b[1;33m]\u001b[0m\u001b[1;33m\u001b[0m\u001b[1;33m\u001b[0m\u001b[0m\n\u001b[0m\u001b[0;32m     45\u001b[0m         \u001b[1;32melse\u001b[0m\u001b[1;33m:\u001b[0m\u001b[1;33m\u001b[0m\u001b[1;33m\u001b[0m\u001b[0m\n\u001b[0;32m     46\u001b[0m             \u001b[0mdata\u001b[0m \u001b[1;33m=\u001b[0m \u001b[0mself\u001b[0m\u001b[1;33m.\u001b[0m\u001b[0mdataset\u001b[0m\u001b[1;33m[\u001b[0m\u001b[0mpossibly_batched_index\u001b[0m\u001b[1;33m]\u001b[0m\u001b[1;33m\u001b[0m\u001b[1;33m\u001b[0m\u001b[0m\n",
      "\u001b[1;32m~\\Anaconda3\\lib\\site-packages\\torch\\utils\\data\\_utils\\fetch.py\u001b[0m in \u001b[0;36m<listcomp>\u001b[1;34m(.0)\u001b[0m\n\u001b[0;32m     42\u001b[0m     \u001b[1;32mdef\u001b[0m \u001b[0mfetch\u001b[0m\u001b[1;33m(\u001b[0m\u001b[0mself\u001b[0m\u001b[1;33m,\u001b[0m \u001b[0mpossibly_batched_index\u001b[0m\u001b[1;33m)\u001b[0m\u001b[1;33m:\u001b[0m\u001b[1;33m\u001b[0m\u001b[1;33m\u001b[0m\u001b[0m\n\u001b[0;32m     43\u001b[0m         \u001b[1;32mif\u001b[0m \u001b[0mself\u001b[0m\u001b[1;33m.\u001b[0m\u001b[0mauto_collation\u001b[0m\u001b[1;33m:\u001b[0m\u001b[1;33m\u001b[0m\u001b[1;33m\u001b[0m\u001b[0m\n\u001b[1;32m---> 44\u001b[1;33m             \u001b[0mdata\u001b[0m \u001b[1;33m=\u001b[0m \u001b[1;33m[\u001b[0m\u001b[0mself\u001b[0m\u001b[1;33m.\u001b[0m\u001b[0mdataset\u001b[0m\u001b[1;33m[\u001b[0m\u001b[0midx\u001b[0m\u001b[1;33m]\u001b[0m \u001b[1;32mfor\u001b[0m \u001b[0midx\u001b[0m \u001b[1;32min\u001b[0m \u001b[0mpossibly_batched_index\u001b[0m\u001b[1;33m]\u001b[0m\u001b[1;33m\u001b[0m\u001b[1;33m\u001b[0m\u001b[0m\n\u001b[0m\u001b[0;32m     45\u001b[0m         \u001b[1;32melse\u001b[0m\u001b[1;33m:\u001b[0m\u001b[1;33m\u001b[0m\u001b[1;33m\u001b[0m\u001b[0m\n\u001b[0;32m     46\u001b[0m             \u001b[0mdata\u001b[0m \u001b[1;33m=\u001b[0m \u001b[0mself\u001b[0m\u001b[1;33m.\u001b[0m\u001b[0mdataset\u001b[0m\u001b[1;33m[\u001b[0m\u001b[0mpossibly_batched_index\u001b[0m\u001b[1;33m]\u001b[0m\u001b[1;33m\u001b[0m\u001b[1;33m\u001b[0m\u001b[0m\n",
      "\u001b[1;32m<ipython-input-14-3d254c729e95>\u001b[0m in \u001b[0;36m__getitem__\u001b[1;34m(self, index)\u001b[0m\n\u001b[0;32m     28\u001b[0m         \u001b[1;31m# Читаем сегментированную картинку и сразу же представляем ее в виде numpy-массива\u001b[0m\u001b[1;33m\u001b[0m\u001b[1;33m\u001b[0m\u001b[1;33m\u001b[0m\u001b[0m\n\u001b[0;32m     29\u001b[0m         \u001b[1;31m# размера 600х800 float-значний\u001b[0m\u001b[1;33m\u001b[0m\u001b[1;33m\u001b[0m\u001b[1;33m\u001b[0m\u001b[0m\n\u001b[1;32m---> 30\u001b[1;33m         \u001b[0mlab\u001b[0m \u001b[1;33m=\u001b[0m \u001b[0mnp\u001b[0m\u001b[1;33m.\u001b[0m\u001b[0masarray\u001b[0m\u001b[1;33m(\u001b[0m\u001b[0mplt\u001b[0m\u001b[1;33m.\u001b[0m\u001b[0mimread\u001b[0m\u001b[1;33m(\u001b[0m\u001b[0mself\u001b[0m\u001b[1;33m.\u001b[0m\u001b[0mlabel_arr\u001b[0m\u001b[1;33m[\u001b[0m\u001b[0mindex\u001b[0m\u001b[1;33m]\u001b[0m\u001b[1;33m)\u001b[0m\u001b[1;33m)\u001b[0m\u001b[1;33m[\u001b[0m\u001b[1;33m:\u001b[0m\u001b[1;33m,\u001b[0m\u001b[1;33m:\u001b[0m\u001b[1;33m,\u001b[0m\u001b[1;36m0\u001b[0m\u001b[1;33m]\u001b[0m\u001b[1;33m*\u001b[0m\u001b[1;36m255\u001b[0m\u001b[1;33m\u001b[0m\u001b[1;33m\u001b[0m\u001b[0m\n\u001b[0m\u001b[0;32m     31\u001b[0m \u001b[1;33m\u001b[0m\u001b[0m\n\u001b[0;32m     32\u001b[0m         \u001b[1;31m# Упаковываем её в pytorch-тензор и оборачиваем ее в батч из одной картинки,\u001b[0m\u001b[1;33m\u001b[0m\u001b[1;33m\u001b[0m\u001b[1;33m\u001b[0m\u001b[0m\n",
      "\u001b[1;31mIndexError\u001b[0m: too many indices for array"
     ]
    }
   ],
   "source": [
    "learning_rate = 0.001\n",
    "epochs = 1\n",
    "\n",
    "criterion = SoftDiceLoss()\n",
    "\n",
    "total_steps = len(train_data_loader)\n",
    "print(f\"{epochs} epochs, {total_steps} total_steps per epoch\")\n",
    "# создание модели\n",
    "model = smp.Unet('resnet34', encoder_weights = 'imagenet', classes=12, activation='sigmoid').to(device)\n",
    "optimizer = torch.optim.Adam([dict(params=model.parameters(), lr=learning_rate)])\n",
    "epoch_losses = []\n",
    "\n",
    "for epoch in range(epochs):  # loop over the dataset multiple times\n",
    "    running_loss = 0.0\n",
    "    epoch_loss = []\n",
    "    t = 0\n",
    "    time1 = time.time()\n",
    "    for i, data in enumerate(train_data_loader, 0):\n",
    "        # get the inputs; data is a list of [inputs, labels]\n",
    "        inputs, labels = data\n",
    "        inputs = inputs.to(device)\n",
    "        labels = labels.to(device)\n",
    "\n",
    "        # zero the parameter gradients\n",
    "        optimizer.zero_grad()\n",
    "\n",
    "        # forward + backward + optimize\n",
    "        outputs = model(inputs[0])\n",
    "        loss = criterion(outputs,labels[0])\n",
    "        loss.backward()\n",
    "        optimizer.step()\n",
    "\n",
    "        # print statistics\n",
    "        running_loss += loss.item()\n",
    "        epoch_loss.append(loss.item())\n",
    "        t += 1\n",
    "        if t % 500 == 499:    # print every 5000 mini-batches\n",
    "            print(f'Epoch: {epoch+1:2d}, Batchcount: {t}, Avg. Loss: {running_loss/500:.8f}')\n",
    "            running_loss = 0.0\n",
    "            \n",
    "    time2 = time.time()\n",
    "    print(f'Epoch {epoch+1}, Loss: {np.mean(epoch_loss):.8f} Time = {time2-time1} sec')\n",
    "    epoch_losses.append(epoch_loss)"
   ]
  }
 ],
 "metadata": {
  "kernelspec": {
   "display_name": "Python 3",
   "language": "python",
   "name": "python3"
  },
  "language_info": {
   "codemirror_mode": {
    "name": "ipython",
    "version": 3
   },
   "file_extension": ".py",
   "mimetype": "text/x-python",
   "name": "python",
   "nbconvert_exporter": "python",
   "pygments_lexer": "ipython3",
   "version": "3.7.7"
  }
 },
 "nbformat": 4,
 "nbformat_minor": 4
}
