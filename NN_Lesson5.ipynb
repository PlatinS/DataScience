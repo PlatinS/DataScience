{
 "cells": [
  {
   "cell_type": "code",
   "execution_count": 1,
   "metadata": {},
   "outputs": [],
   "source": [
    "from __future__ import print_function\n",
    "import tensorflow as tf\n",
    "from tensorflow.keras.datasets import imdb\n",
    "from tensorflow.keras.preprocessing import sequence\n",
    "from tensorflow.keras.models import Sequential\n",
    "from tensorflow.keras.layers import Dense, Embedding, LSTM, GRU\n",
    "from tensorflow.keras import utils\n",
    "import numpy as np\n",
    "import matplotlib.pyplot as plt\n",
    "%matplotlib inline"
   ]
  },
  {
   "cell_type": "code",
   "execution_count": 2,
   "metadata": {},
   "outputs": [
    {
     "name": "stdout",
     "output_type": "stream",
     "text": [
      "2.1.0\n"
     ]
    }
   ],
   "source": [
    "print(tf.__version__)"
   ]
  },
  {
   "cell_type": "code",
   "execution_count": 3,
   "metadata": {},
   "outputs": [],
   "source": [
    "gpu_devices = tf.config.experimental.list_physical_devices('GPU')\n",
    "for device in gpu_devices:\n",
    "    tf.config.experimental.set_memory_growth(device, True)"
   ]
  },
  {
   "cell_type": "code",
   "execution_count": 44,
   "metadata": {},
   "outputs": [],
   "source": [
    "# Максимальное кол-во используемых слов\n",
    "number_of_words = 20000\n",
    "\n",
    "# Обрезание отзывов после данного количества слов (среди top number_of_words наиболее используемые слова)\n",
    "words_per_review = 200"
   ]
  },
  {
   "cell_type": "code",
   "execution_count": 45,
   "metadata": {},
   "outputs": [
    {
     "name": "stdout",
     "output_type": "stream",
     "text": [
      "Загрузка данных...\n",
      "25000 Тренировочные последовательности\n",
      "25000 Тестовые последовательности\n"
     ]
    }
   ],
   "source": [
    "print('Загрузка данных...')\n",
    "(x_train, y_train), (x_test, y_test) = imdb.load_data(num_words=max_features)\n",
    "print(len(x_train), 'Тренировочные последовательности')\n",
    "print(len(x_test), 'Тестовые последовательности')"
   ]
  },
  {
   "cell_type": "code",
   "execution_count": 46,
   "metadata": {},
   "outputs": [
    {
     "name": "stdout",
     "output_type": "stream",
     "text": [
      "Pad последовательности (примеров в x единицу времени)\n",
      "x_train shape: (25000, 200)\n",
      "x_test shape: (25000, 200)\n"
     ]
    }
   ],
   "source": [
    "print('Pad последовательности (примеров в x единицу времени)')\n",
    "# Обрезаем/Добавляем отзывы до нужной длины\n",
    "x_train = sequence.pad_sequences(x_train, maxlen=words_per_review)\n",
    "x_test  = sequence.pad_sequences(x_test,  maxlen=words_per_review)\n",
    "print('x_train shape:', x_train.shape)\n",
    "print('x_test shape:', x_test.shape)"
   ]
  },
  {
   "cell_type": "code",
   "execution_count": 68,
   "metadata": {},
   "outputs": [
    {
     "name": "stdout",
     "output_type": "stream",
     "text": [
      "Построение модели...\n"
     ]
    }
   ],
   "source": [
    "print('Построение модели...')\n",
    "model = Sequential()\n",
    "model.add(Embedding(input_dim=number_of_words, output_dim=128, input_length=words_per_review))\n",
    "model.add(LSTM(units=128, return_sequences=True))\n",
    "model.add(LSTM(units=128, dropout=0.2, recurrent_dropout=0.2))\n",
    "#model.add(GRU(units=128, dropout=0.2, recurrent_dropout=0, recurrent_activation=\"sigmoid\"))\n",
    "model.add(Dense(units=32, activation='relu'))\n",
    "model.add(Dense(units=1, activation='sigmoid'))"
   ]
  },
  {
   "cell_type": "code",
   "execution_count": 69,
   "metadata": {},
   "outputs": [],
   "source": [
    "model.compile(optimizer='adam', loss='binary_crossentropy', metrics=['accuracy'])"
   ]
  },
  {
   "cell_type": "code",
   "execution_count": 70,
   "metadata": {},
   "outputs": [
    {
     "name": "stdout",
     "output_type": "stream",
     "text": [
      "Model: \"sequential_7\"\n",
      "_________________________________________________________________\n",
      "Layer (type)                 Output Shape              Param #   \n",
      "=================================================================\n",
      "embedding_7 (Embedding)      (None, 200, 128)          2560000   \n",
      "_________________________________________________________________\n",
      "lstm_10 (LSTM)               (None, 200, 128)          131584    \n",
      "_________________________________________________________________\n",
      "lstm_11 (LSTM)               (None, 128)               131584    \n",
      "_________________________________________________________________\n",
      "dense_10 (Dense)             (None, 32)                4128      \n",
      "_________________________________________________________________\n",
      "dense_11 (Dense)             (None, 1)                 33        \n",
      "=================================================================\n",
      "Total params: 2,827,329\n",
      "Trainable params: 2,827,329\n",
      "Non-trainable params: 0\n",
      "_________________________________________________________________\n"
     ]
    }
   ],
   "source": [
    "model.summary()"
   ]
  },
  {
   "cell_type": "code",
   "execution_count": 72,
   "metadata": {},
   "outputs": [
    {
     "name": "stdout",
     "output_type": "stream",
     "text": [
      "Процесс обучения...\n",
      "Train on 25000 samples, validate on 25000 samples\n",
      "Epoch 1/4\n",
      "25000/25000 [==============================] - 100s 4ms/sample - loss: 0.1983 - accuracy: 0.9262 - val_loss: 0.3847 - val_accuracy: 0.8546\n",
      "Epoch 2/4\n",
      "25000/25000 [==============================] - 100s 4ms/sample - loss: 0.1279 - accuracy: 0.9544 - val_loss: 0.3759 - val_accuracy: 0.8586\n",
      "Epoch 3/4\n",
      "25000/25000 [==============================] - 101s 4ms/sample - loss: 0.0938 - accuracy: 0.9671 - val_loss: 0.5065 - val_accuracy: 0.8516\n",
      "Epoch 4/4\n",
      "25000/25000 [==============================] - 101s 4ms/sample - loss: 0.0670 - accuracy: 0.9779 - val_loss: 0.4920 - val_accuracy: 0.8455\n",
      "25000/25000 [==============================] - 16s 628us/sample - loss: 0.4920 - accuracy: 0.8455\n",
      "Результат при тестировании: 0.4919574480247498\n",
      "Тестовая точность: 0.84548\n"
     ]
    }
   ],
   "source": [
    "BATCH_SIZE = 64\n",
    "NUM_EPOCHS = 4\n",
    "print('Процесс обучения...')\n",
    "history = model.fit(x_train, y_train, batch_size=BATCH_SIZE,\n",
    "          epochs=NUM_EPOCHS,\n",
    "          validation_data=(x_test, y_test))\n",
    "\n",
    "score, acc = model.evaluate(x_test, y_test, batch_size=BATCH_SIZE)\n",
    "print('Результат при тестировании:', score)\n",
    "print('Тестовая точность:', acc)"
   ]
  },
  {
   "cell_type": "code",
   "execution_count": 73,
   "metadata": {},
   "outputs": [
    {
     "data": {
      "image/png": "[encoded data removed]",
      "text/plain": [
       "<Figure size 1152x720 with 2 Axes>"
      ]
     },
     "metadata": {
      "needs_background": "light"
     },
     "output_type": "display_data"
    }
   ],
   "source": [
    "plt.figure(figsize=(16, 10))\n",
    "plt.subplot(221)\n",
    "plt.title('Accuracy')\n",
    "plt.plot(history.history['accuracy'], label = 'Доля верных ответов на Train')\n",
    "plt.plot(history.history['val_accuracy'], label = 'Доля верных ответов на Test')\n",
    "plt.xlabel('Эпоха')\n",
    "plt.ylabel('Доля верных ответов')\n",
    "plt.legend(loc='best')\n",
    "plt.grid()\n",
    "\n",
    "plt.subplot(222)\n",
    "plt.title('Loss')\n",
    "plt.plot(history.history['loss'], label = 'Train')\n",
    "plt.plot(history.history['val_loss'], label = 'Test')\n",
    "plt.xlabel('Эпоха')\n",
    "plt.legend(loc='best')\n",
    "plt.grid()\n",
    "plt.show()"
   ]
  },
  {
   "cell_type": "code",
   "execution_count": 83,
   "metadata": {},
   "outputs": [
    {
     "name": "stdout",
     "output_type": "stream",
     "text": [
      "Построение модели...\n"
     ]
    }
   ],
   "source": [
    "print('Построение модели...')\n",
    "model = Sequential()\n",
    "model.add(Embedding(input_dim=number_of_words, output_dim=128, input_length=words_per_review))\n",
    "model.add(LSTM(units=128, return_sequences=True))\n",
    "model.add(LSTM(units=128, dropout=0.2, recurrent_dropout=0.2))\n",
    "model.add(Dense(units=64, activation='relu'))\n",
    "model.add(Dense(units=1, activation='sigmoid'))"
   ]
  },
  {
   "cell_type": "code",
   "execution_count": 84,
   "metadata": {},
   "outputs": [
    {
     "name": "stdout",
     "output_type": "stream",
     "text": [
      "Model: \"sequential_11\"\n",
      "_________________________________________________________________\n",
      "Layer (type)                 Output Shape              Param #   \n",
      "=================================================================\n",
      "embedding_11 (Embedding)     (None, 200, 128)          2560000   \n",
      "_________________________________________________________________\n",
      "lstm_18 (LSTM)               (None, 200, 128)          131584    \n",
      "_________________________________________________________________\n",
      "lstm_19 (LSTM)               (None, 128)               131584    \n",
      "_________________________________________________________________\n",
      "dense_18 (Dense)             (None, 64)                8256      \n",
      "_________________________________________________________________\n",
      "dense_19 (Dense)             (None, 1)                 65        \n",
      "=================================================================\n",
      "Total params: 2,831,489\n",
      "Trainable params: 2,831,489\n",
      "Non-trainable params: 0\n",
      "_________________________________________________________________\n"
     ]
    }
   ],
   "source": [
    "model.compile(optimizer='adam', loss='binary_crossentropy', metrics=['accuracy'])\n",
    "model.summary()"
   ]
  },
  {
   "cell_type": "code",
   "execution_count": 85,
   "metadata": {},
   "outputs": [
    {
     "name": "stdout",
     "output_type": "stream",
     "text": [
      "Процесс обучения...\n",
      "Train on 25000 samples, validate on 25000 samples\n",
      "Epoch 1/2\n",
      "25000/25000 [==============================] - 104s 4ms/sample - loss: 0.4160 - accuracy: 0.8086 - val_loss: 0.3186 - val_accuracy: 0.8679\n",
      "Epoch 2/2\n",
      "25000/25000 [==============================] - 102s 4ms/sample - loss: 0.2125 - accuracy: 0.9194 - val_loss: 0.3328 - val_accuracy: 0.8665\n",
      "25000/25000 [==============================] - 17s 677us/sample - loss: 0.3328 - accuracy: 0.8665\n",
      "Результат при тестировании: 0.3327691626119614\n",
      "Тестовая точность: 0.86652\n"
     ]
    }
   ],
   "source": [
    "BATCH_SIZE = 64\n",
    "NUM_EPOCHS = 2\n",
    "print('Процесс обучения...')\n",
    "history = model.fit(x_train, y_train, batch_size=BATCH_SIZE,\n",
    "          epochs=NUM_EPOCHS,\n",
    "          validation_data=(x_test, y_test))\n",
    "\n",
    "score, acc = model.evaluate(x_test, y_test, batch_size=BATCH_SIZE)\n",
    "print('Результат при тестировании:', score)\n",
    "print('Тестовая точность:', acc)"
   ]
  },
  {
   "cell_type": "markdown",
   "metadata": {},
   "source": [
    "#### Изменялись параметры:\n",
    "- разные объемы обучающих данных (number_of_words) 10000 и 20000. Точность выше при 20000\n",
    "- разное количество слов в одном отзыве (words_per_review) 80, 100, 200. Точность выше при 200\n",
    "- пробовал использовать слой GRU вместо LSTM. Результат сопоставим.\n",
    "- разное количество units в уровнях: 64, 128. Точность выше при большем числе нейронов.\n",
    "- добавил ещё один LSTM слой с параметром return_sequences\n",
    "- добавил ещё один выходной слой с количеством units 32|64 и активацией 'relu'\n",
    "\n",
    "Максимальная точность, которую удалось добиться на тестовых данных 0.8679"
   ]
  },
  {
   "cell_type": "code",
   "execution_count": null,
   "metadata": {},
   "outputs": [],
   "source": []
  }
 ],
 "metadata": {
  "kernelspec": {
   "display_name": "Python 3",
   "language": "python",
   "name": "python3"
  },
  "language_info": {
   "codemirror_mode": {
    "name": "ipython",
    "version": 3
   },
   "file_extension": ".py",
   "mimetype": "text/x-python",
   "name": "python",
   "nbconvert_exporter": "python",
   "pygments_lexer": "ipython3",
   "version": "3.7.7"
  }
 },
 "nbformat": 4,
 "nbformat_minor": 4
}
